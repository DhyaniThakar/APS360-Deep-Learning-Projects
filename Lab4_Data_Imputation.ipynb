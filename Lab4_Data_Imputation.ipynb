{
  "cells": [
    {
      "cell_type": "code",
      "source": [
        "%%shell\n",
        "jupyter nbconvert --to html ///content/Lab4_Data_Imputation.ipynb"
      ],
      "metadata": {
        "colab": {
          "base_uri": "https://localhost:8080/"
        },
        "id": "Nh3uxE8Ce0Yl",
        "outputId": "369a8a8e-e813-489e-a1b6-5d47766ccb1c"
      },
      "execution_count": null,
      "outputs": [
        {
          "output_type": "stream",
          "name": "stdout",
          "text": [
            "[NbConvertApp] Converting notebook ///content/Lab4_Data_Imputation.ipynb to html\n",
            "[NbConvertApp] Writing 924330 bytes to /content/Lab4_Data_Imputation.html\n"
          ]
        },
        {
          "output_type": "execute_result",
          "data": {
            "text/plain": []
          },
          "metadata": {},
          "execution_count": 160
        }
      ]
    },
    {
      "cell_type": "markdown",
      "metadata": {
        "id": "OhtOdxzd1ppr"
      },
      "source": [
        "# Lab 4: Data Imputation using an Autoencoder\n",
        "\n",
        "\n",
        "In this lab, you will build and train an autoencoder to impute (or \"fill in\") missing data.\n",
        "\n",
        "We will be using the\n",
        "Adult Data Set provided by the UCI Machine Learning Repository [1], available\n",
        "at https://archive.ics.uci.edu/ml/datasets/adult.\n",
        "The data set contains census record files of adults, including their\n",
        "age, martial status, the type of work they do, and other features.\n",
        "\n",
        "Normally, people use this data set to build a supervised classification\n",
        "model to classify whether a person is a high income earner.\n",
        "We will not use the dataset for this original intended purpose.\n",
        "\n",
        "Instead, we will perform the task of imputing (or \"filling in\") missing values in the dataset. For example,\n",
        "we may be missing one person's martial status, and another person's age, and\n",
        "a third person's level of education. Our model will predict the missing features\n",
        "based on the information that we do have about each person.\n",
        "\n",
        "We will use a variation of a denoising autoencoder to solve this data imputation\n",
        "problem. Our autoencoder will be trained using inputs that have one categorical feature artificially\n",
        "removed, and the goal of the autoencoder is to correctly reconstruct all features,\n",
        "including the one removed from the input.\n",
        "\n",
        "In the process, you are expected to learn to:\n",
        "\n",
        "1. Clean and process continuous and categorical data for machine learning.\n",
        "2. Implement an autoencoder that takes continuous and categorical (one-hot) inputs.\n",
        "3. Tune the hyperparameters of an autoencoder.\n",
        "4. Use baseline models to help interpret model performance.\n",
        "\n",
        "[1] Dua, D. and Karra Taniskidou, E. (2017). UCI Machine Learning Repository [http://archive.ics.uci.edu/ml]. Irvine, CA: University of California, School of Information and Computer Science.\n",
        "\n",
        "\n",
        "### What to submit\n",
        "\n",
        "Submit a PDF file containing all your code, outputs, and write-up. You can produce a PDF of your Google Colab file by going to File > Print and then save as PDF. The Colab instructions have more information.\n",
        "\n",
        "Do not submit any other files produced by your code.\n",
        "\n",
        "Include a link to your colab file in your submission.\n"
      ]
    },
    {
      "cell_type": "markdown",
      "metadata": {
        "id": "zbnrp2ig1pps"
      },
      "source": [
        "## Colab Link\n",
        "\n",
        "Include a link to your Colab file here. If you would like the TA to look at your\n",
        "Colab file in case your solutions are cut off, **please make sure that your Colab\n",
        "file is publicly accessible at the time of submission**.\n",
        "\n",
        "Colab Link:https://colab.research.google.com/drive/1X2vPFjfgc_ptUA7U-_3pH0BOpG0TVuEt?usp=sharing"
      ]
    },
    {
      "cell_type": "code",
      "execution_count": null,
      "metadata": {
        "collapsed": true,
        "id": "z3p8N43E1ppt",
        "jupyter": {
          "outputs_hidden": true
        }
      },
      "outputs": [],
      "source": [
        "import csv\n",
        "import numpy as np\n",
        "import random\n",
        "import torch\n",
        "import torch.utils.data\n",
        "import matplotlib.pyplot as plt\n",
        "from torch.utils.data import DataLoader"
      ]
    },
    {
      "cell_type": "markdown",
      "metadata": {
        "id": "8ROwtHcz1ppx"
      },
      "source": [
        "## Part 0\n",
        "\n",
        "We will be using a package called `pandas` for this assignment.\n",
        "\n",
        "If you are using Colab, `pandas` should already be available.\n",
        "If you are using your own computer,\n",
        "installation instructions for `pandas` are available here:\n",
        "https://pandas.pydata.org/pandas-docs/stable/install.html"
      ]
    },
    {
      "cell_type": "code",
      "execution_count": null,
      "metadata": {
        "collapsed": true,
        "id": "IXQ7BP151ppz",
        "jupyter": {
          "outputs_hidden": true
        }
      },
      "outputs": [],
      "source": [
        "import pandas as pd"
      ]
    },
    {
      "cell_type": "markdown",
      "metadata": {
        "id": "hqXihb4Q1pp2"
      },
      "source": [
        "# Part 1. Data Cleaning [15 pt]\n",
        "\n",
        "The adult.data file is available at `https://archive.ics.uci.edu/ml/machine-learning-databases/adult/adult.data`\n",
        "\n",
        "The function `pd.read_csv` loads the adult.data file into a pandas dataframe.\n",
        "You can read about the pandas documentation for `pd.read_csv` at\n",
        "https://pandas.pydata.org/pandas-docs/stable/reference/api/pandas.read_csv.html"
      ]
    },
    {
      "cell_type": "code",
      "execution_count": null,
      "metadata": {
        "colab": {
          "base_uri": "https://localhost:8080/"
        },
        "id": "EOMItFKn1pp3",
        "jupyter": {
          "outputs_hidden": true
        },
        "outputId": "3c22a2c3-7221-46ec-86c3-cd2b94e68555"
      },
      "outputs": [
        {
          "output_type": "stream",
          "name": "stderr",
          "text": [
            "<ipython-input-97-037957db2593>:3: ParserWarning: Length of header or names does not match length of data. This leads to a loss of data with index_col=False.\n",
            "  df = pd.read_csv(\n"
          ]
        }
      ],
      "source": [
        "header = ['age', 'work', 'fnlwgt', 'edu', 'yredu', 'marriage', 'occupation',\n",
        " 'relationship', 'race', 'sex', 'capgain', 'caploss', 'workhr', 'country']\n",
        "df = pd.read_csv(\n",
        "    \"https://archive.ics.uci.edu/ml/machine-learning-databases/adult/adult.data\",\n",
        "    names=header,\n",
        "    index_col=False)"
      ]
    },
    {
      "cell_type": "code",
      "execution_count": null,
      "metadata": {
        "colab": {
          "base_uri": "https://localhost:8080/"
        },
        "id": "62Ot405q1pp5",
        "outputId": "68bc6402-6573-4e60-a4c4-2dc910fec67c",
        "scrolled": true
      },
      "outputs": [
        {
          "output_type": "execute_result",
          "data": {
            "text/plain": [
              "(32561, 14)"
            ]
          },
          "metadata": {},
          "execution_count": 98
        }
      ],
      "source": [
        "df.shape # there are 32561 rows (records) in the data frame, and 14 columns (features)"
      ]
    },
    {
      "cell_type": "markdown",
      "metadata": {
        "id": "Tr7YG-QY1pp8"
      },
      "source": [
        "### Part (a) Continuous Features [3 pt]\n",
        "\n",
        "For each of the columns `[\"age\", \"yredu\", \"capgain\", \"caploss\", \"workhr\"]`, report the minimum, maximum, and average value across the dataset.\n",
        "\n",
        "Then, normalize each of the features `[\"age\", \"yredu\", \"capgain\", \"caploss\", \"workhr\"]`\n",
        "so that their values are always between 0 and 1.\n",
        "Make sure that you are actually modifying the dataframe `df`.\n",
        "\n",
        "Like numpy arrays and torch tensors,\n",
        "pandas data frames can be sliced. For example, we can\n",
        "display the first 3 rows of the data frame (3 records) below."
      ]
    },
    {
      "cell_type": "code",
      "execution_count": null,
      "metadata": {
        "colab": {
          "base_uri": "https://localhost:8080/",
          "height": 195
        },
        "id": "9evSLsSa1pp9",
        "outputId": "870ceab0-1e3d-4dc5-c85f-8c893d9a2abd"
      },
      "outputs": [
        {
          "output_type": "execute_result",
          "data": {
            "text/plain": [
              "   age               work  fnlwgt         edu  yredu             marriage  \\\n",
              "0   39          State-gov   77516   Bachelors     13        Never-married   \n",
              "1   50   Self-emp-not-inc   83311   Bachelors     13   Married-civ-spouse   \n",
              "2   38            Private  215646     HS-grad      9             Divorced   \n",
              "\n",
              "           occupation    relationship    race    sex  capgain  caploss  \\\n",
              "0        Adm-clerical   Not-in-family   White   Male     2174        0   \n",
              "1     Exec-managerial         Husband   White   Male        0        0   \n",
              "2   Handlers-cleaners   Not-in-family   White   Male        0        0   \n",
              "\n",
              "   workhr         country  \n",
              "0      40   United-States  \n",
              "1      13   United-States  \n",
              "2      40   United-States  "
            ],
            "text/html": [
              "\n",
              "  <div id=\"df-702ca00f-dd84-4fd8-a4b5-496e1488aa3c\" class=\"colab-df-container\">\n",
              "    <div>\n",
              "<style scoped>\n",
              "    .dataframe tbody tr th:only-of-type {\n",
              "        vertical-align: middle;\n",
              "    }\n",
              "\n",
              "    .dataframe tbody tr th {\n",
              "        vertical-align: top;\n",
              "    }\n",
              "\n",
              "    .dataframe thead th {\n",
              "        text-align: right;\n",
              "    }\n",
              "</style>\n",
              "<table border=\"1\" class=\"dataframe\">\n",
              "  <thead>\n",
              "    <tr style=\"text-align: right;\">\n",
              "      <th></th>\n",
              "      <th>age</th>\n",
              "      <th>work</th>\n",
              "      <th>fnlwgt</th>\n",
              "      <th>edu</th>\n",
              "      <th>yredu</th>\n",
              "      <th>marriage</th>\n",
              "      <th>occupation</th>\n",
              "      <th>relationship</th>\n",
              "      <th>race</th>\n",
              "      <th>sex</th>\n",
              "      <th>capgain</th>\n",
              "      <th>caploss</th>\n",
              "      <th>workhr</th>\n",
              "      <th>country</th>\n",
              "    </tr>\n",
              "  </thead>\n",
              "  <tbody>\n",
              "    <tr>\n",
              "      <th>0</th>\n",
              "      <td>39</td>\n",
              "      <td>State-gov</td>\n",
              "      <td>77516</td>\n",
              "      <td>Bachelors</td>\n",
              "      <td>13</td>\n",
              "      <td>Never-married</td>\n",
              "      <td>Adm-clerical</td>\n",
              "      <td>Not-in-family</td>\n",
              "      <td>White</td>\n",
              "      <td>Male</td>\n",
              "      <td>2174</td>\n",
              "      <td>0</td>\n",
              "      <td>40</td>\n",
              "      <td>United-States</td>\n",
              "    </tr>\n",
              "    <tr>\n",
              "      <th>1</th>\n",
              "      <td>50</td>\n",
              "      <td>Self-emp-not-inc</td>\n",
              "      <td>83311</td>\n",
              "      <td>Bachelors</td>\n",
              "      <td>13</td>\n",
              "      <td>Married-civ-spouse</td>\n",
              "      <td>Exec-managerial</td>\n",
              "      <td>Husband</td>\n",
              "      <td>White</td>\n",
              "      <td>Male</td>\n",
              "      <td>0</td>\n",
              "      <td>0</td>\n",
              "      <td>13</td>\n",
              "      <td>United-States</td>\n",
              "    </tr>\n",
              "    <tr>\n",
              "      <th>2</th>\n",
              "      <td>38</td>\n",
              "      <td>Private</td>\n",
              "      <td>215646</td>\n",
              "      <td>HS-grad</td>\n",
              "      <td>9</td>\n",
              "      <td>Divorced</td>\n",
              "      <td>Handlers-cleaners</td>\n",
              "      <td>Not-in-family</td>\n",
              "      <td>White</td>\n",
              "      <td>Male</td>\n",
              "      <td>0</td>\n",
              "      <td>0</td>\n",
              "      <td>40</td>\n",
              "      <td>United-States</td>\n",
              "    </tr>\n",
              "  </tbody>\n",
              "</table>\n",
              "</div>\n",
              "    <div class=\"colab-df-buttons\">\n",
              "\n",
              "  <div class=\"colab-df-container\">\n",
              "    <button class=\"colab-df-convert\" onclick=\"convertToInteractive('df-702ca00f-dd84-4fd8-a4b5-496e1488aa3c')\"\n",
              "            title=\"Convert this dataframe to an interactive table.\"\n",
              "            style=\"display:none;\">\n",
              "\n",
              "  <svg xmlns=\"http://www.w3.org/2000/svg\" height=\"24px\" viewBox=\"0 -960 960 960\">\n",
              "    <path d=\"M120-120v-720h720v720H120Zm60-500h600v-160H180v160Zm220 220h160v-160H400v160Zm0 220h160v-160H400v160ZM180-400h160v-160H180v160Zm440 0h160v-160H620v160ZM180-180h160v-160H180v160Zm440 0h160v-160H620v160Z\"/>\n",
              "  </svg>\n",
              "    </button>\n",
              "\n",
              "  <style>\n",
              "    .colab-df-container {\n",
              "      display:flex;\n",
              "      gap: 12px;\n",
              "    }\n",
              "\n",
              "    .colab-df-convert {\n",
              "      background-color: #E8F0FE;\n",
              "      border: none;\n",
              "      border-radius: 50%;\n",
              "      cursor: pointer;\n",
              "      display: none;\n",
              "      fill: #1967D2;\n",
              "      height: 32px;\n",
              "      padding: 0 0 0 0;\n",
              "      width: 32px;\n",
              "    }\n",
              "\n",
              "    .colab-df-convert:hover {\n",
              "      background-color: #E2EBFA;\n",
              "      box-shadow: 0px 1px 2px rgba(60, 64, 67, 0.3), 0px 1px 3px 1px rgba(60, 64, 67, 0.15);\n",
              "      fill: #174EA6;\n",
              "    }\n",
              "\n",
              "    .colab-df-buttons div {\n",
              "      margin-bottom: 4px;\n",
              "    }\n",
              "\n",
              "    [theme=dark] .colab-df-convert {\n",
              "      background-color: #3B4455;\n",
              "      fill: #D2E3FC;\n",
              "    }\n",
              "\n",
              "    [theme=dark] .colab-df-convert:hover {\n",
              "      background-color: #434B5C;\n",
              "      box-shadow: 0px 1px 3px 1px rgba(0, 0, 0, 0.15);\n",
              "      filter: drop-shadow(0px 1px 2px rgba(0, 0, 0, 0.3));\n",
              "      fill: #FFFFFF;\n",
              "    }\n",
              "  </style>\n",
              "\n",
              "    <script>\n",
              "      const buttonEl =\n",
              "        document.querySelector('#df-702ca00f-dd84-4fd8-a4b5-496e1488aa3c button.colab-df-convert');\n",
              "      buttonEl.style.display =\n",
              "        google.colab.kernel.accessAllowed ? 'block' : 'none';\n",
              "\n",
              "      async function convertToInteractive(key) {\n",
              "        const element = document.querySelector('#df-702ca00f-dd84-4fd8-a4b5-496e1488aa3c');\n",
              "        const dataTable =\n",
              "          await google.colab.kernel.invokeFunction('convertToInteractive',\n",
              "                                                    [key], {});\n",
              "        if (!dataTable) return;\n",
              "\n",
              "        const docLinkHtml = 'Like what you see? Visit the ' +\n",
              "          '<a target=\"_blank\" href=https://colab.research.google.com/notebooks/data_table.ipynb>data table notebook</a>'\n",
              "          + ' to learn more about interactive tables.';\n",
              "        element.innerHTML = '';\n",
              "        dataTable['output_type'] = 'display_data';\n",
              "        await google.colab.output.renderOutput(dataTable, element);\n",
              "        const docLink = document.createElement('div');\n",
              "        docLink.innerHTML = docLinkHtml;\n",
              "        element.appendChild(docLink);\n",
              "      }\n",
              "    </script>\n",
              "  </div>\n",
              "\n",
              "\n",
              "<div id=\"df-8f50c73f-c83f-49b9-9c6c-e1a3b83bbaa6\">\n",
              "  <button class=\"colab-df-quickchart\" onclick=\"quickchart('df-8f50c73f-c83f-49b9-9c6c-e1a3b83bbaa6')\"\n",
              "            title=\"Suggest charts\"\n",
              "            style=\"display:none;\">\n",
              "\n",
              "<svg xmlns=\"http://www.w3.org/2000/svg\" height=\"24px\"viewBox=\"0 0 24 24\"\n",
              "     width=\"24px\">\n",
              "    <g>\n",
              "        <path d=\"M19 3H5c-1.1 0-2 .9-2 2v14c0 1.1.9 2 2 2h14c1.1 0 2-.9 2-2V5c0-1.1-.9-2-2-2zM9 17H7v-7h2v7zm4 0h-2V7h2v10zm4 0h-2v-4h2v4z\"/>\n",
              "    </g>\n",
              "</svg>\n",
              "  </button>\n",
              "\n",
              "<style>\n",
              "  .colab-df-quickchart {\n",
              "      --bg-color: #E8F0FE;\n",
              "      --fill-color: #1967D2;\n",
              "      --hover-bg-color: #E2EBFA;\n",
              "      --hover-fill-color: #174EA6;\n",
              "      --disabled-fill-color: #AAA;\n",
              "      --disabled-bg-color: #DDD;\n",
              "  }\n",
              "\n",
              "  [theme=dark] .colab-df-quickchart {\n",
              "      --bg-color: #3B4455;\n",
              "      --fill-color: #D2E3FC;\n",
              "      --hover-bg-color: #434B5C;\n",
              "      --hover-fill-color: #FFFFFF;\n",
              "      --disabled-bg-color: #3B4455;\n",
              "      --disabled-fill-color: #666;\n",
              "  }\n",
              "\n",
              "  .colab-df-quickchart {\n",
              "    background-color: var(--bg-color);\n",
              "    border: none;\n",
              "    border-radius: 50%;\n",
              "    cursor: pointer;\n",
              "    display: none;\n",
              "    fill: var(--fill-color);\n",
              "    height: 32px;\n",
              "    padding: 0;\n",
              "    width: 32px;\n",
              "  }\n",
              "\n",
              "  .colab-df-quickchart:hover {\n",
              "    background-color: var(--hover-bg-color);\n",
              "    box-shadow: 0 1px 2px rgba(60, 64, 67, 0.3), 0 1px 3px 1px rgba(60, 64, 67, 0.15);\n",
              "    fill: var(--button-hover-fill-color);\n",
              "  }\n",
              "\n",
              "  .colab-df-quickchart-complete:disabled,\n",
              "  .colab-df-quickchart-complete:disabled:hover {\n",
              "    background-color: var(--disabled-bg-color);\n",
              "    fill: var(--disabled-fill-color);\n",
              "    box-shadow: none;\n",
              "  }\n",
              "\n",
              "  .colab-df-spinner {\n",
              "    border: 2px solid var(--fill-color);\n",
              "    border-color: transparent;\n",
              "    border-bottom-color: var(--fill-color);\n",
              "    animation:\n",
              "      spin 1s steps(1) infinite;\n",
              "  }\n",
              "\n",
              "  @keyframes spin {\n",
              "    0% {\n",
              "      border-color: transparent;\n",
              "      border-bottom-color: var(--fill-color);\n",
              "      border-left-color: var(--fill-color);\n",
              "    }\n",
              "    20% {\n",
              "      border-color: transparent;\n",
              "      border-left-color: var(--fill-color);\n",
              "      border-top-color: var(--fill-color);\n",
              "    }\n",
              "    30% {\n",
              "      border-color: transparent;\n",
              "      border-left-color: var(--fill-color);\n",
              "      border-top-color: var(--fill-color);\n",
              "      border-right-color: var(--fill-color);\n",
              "    }\n",
              "    40% {\n",
              "      border-color: transparent;\n",
              "      border-right-color: var(--fill-color);\n",
              "      border-top-color: var(--fill-color);\n",
              "    }\n",
              "    60% {\n",
              "      border-color: transparent;\n",
              "      border-right-color: var(--fill-color);\n",
              "    }\n",
              "    80% {\n",
              "      border-color: transparent;\n",
              "      border-right-color: var(--fill-color);\n",
              "      border-bottom-color: var(--fill-color);\n",
              "    }\n",
              "    90% {\n",
              "      border-color: transparent;\n",
              "      border-bottom-color: var(--fill-color);\n",
              "    }\n",
              "  }\n",
              "</style>\n",
              "\n",
              "  <script>\n",
              "    async function quickchart(key) {\n",
              "      const quickchartButtonEl =\n",
              "        document.querySelector('#' + key + ' button');\n",
              "      quickchartButtonEl.disabled = true;  // To prevent multiple clicks.\n",
              "      quickchartButtonEl.classList.add('colab-df-spinner');\n",
              "      try {\n",
              "        const charts = await google.colab.kernel.invokeFunction(\n",
              "            'suggestCharts', [key], {});\n",
              "      } catch (error) {\n",
              "        console.error('Error during call to suggestCharts:', error);\n",
              "      }\n",
              "      quickchartButtonEl.classList.remove('colab-df-spinner');\n",
              "      quickchartButtonEl.classList.add('colab-df-quickchart-complete');\n",
              "    }\n",
              "    (() => {\n",
              "      let quickchartButtonEl =\n",
              "        document.querySelector('#df-8f50c73f-c83f-49b9-9c6c-e1a3b83bbaa6 button');\n",
              "      quickchartButtonEl.style.display =\n",
              "        google.colab.kernel.accessAllowed ? 'block' : 'none';\n",
              "    })();\n",
              "  </script>\n",
              "</div>\n",
              "\n",
              "    </div>\n",
              "  </div>\n"
            ],
            "application/vnd.google.colaboratory.intrinsic+json": {
              "type": "dataframe",
              "summary": "{\n  \"name\": \"df[:3] # show the first 3 records\",\n  \"rows\": 3,\n  \"fields\": [\n    {\n      \"column\": \"age\",\n      \"properties\": {\n        \"dtype\": \"number\",\n        \"std\": 6,\n        \"min\": 38,\n        \"max\": 50,\n        \"num_unique_values\": 3,\n        \"samples\": [\n          39,\n          50,\n          38\n        ],\n        \"semantic_type\": \"\",\n        \"description\": \"\"\n      }\n    },\n    {\n      \"column\": \"work\",\n      \"properties\": {\n        \"dtype\": \"string\",\n        \"num_unique_values\": 3,\n        \"samples\": [\n          \" State-gov\",\n          \" Self-emp-not-inc\",\n          \" Private\"\n        ],\n        \"semantic_type\": \"\",\n        \"description\": \"\"\n      }\n    },\n    {\n      \"column\": \"fnlwgt\",\n      \"properties\": {\n        \"dtype\": \"number\",\n        \"std\": 78130,\n        \"min\": 77516,\n        \"max\": 215646,\n        \"num_unique_values\": 3,\n        \"samples\": [\n          77516,\n          83311,\n          215646\n        ],\n        \"semantic_type\": \"\",\n        \"description\": \"\"\n      }\n    },\n    {\n      \"column\": \"edu\",\n      \"properties\": {\n        \"dtype\": \"string\",\n        \"num_unique_values\": 2,\n        \"samples\": [\n          \" HS-grad\",\n          \" Bachelors\"\n        ],\n        \"semantic_type\": \"\",\n        \"description\": \"\"\n      }\n    },\n    {\n      \"column\": \"yredu\",\n      \"properties\": {\n        \"dtype\": \"number\",\n        \"std\": 2,\n        \"min\": 9,\n        \"max\": 13,\n        \"num_unique_values\": 2,\n        \"samples\": [\n          9,\n          13\n        ],\n        \"semantic_type\": \"\",\n        \"description\": \"\"\n      }\n    },\n    {\n      \"column\": \"marriage\",\n      \"properties\": {\n        \"dtype\": \"string\",\n        \"num_unique_values\": 3,\n        \"samples\": [\n          \" Never-married\",\n          \" Married-civ-spouse\"\n        ],\n        \"semantic_type\": \"\",\n        \"description\": \"\"\n      }\n    },\n    {\n      \"column\": \"occupation\",\n      \"properties\": {\n        \"dtype\": \"string\",\n        \"num_unique_values\": 3,\n        \"samples\": [\n          \" Adm-clerical\",\n          \" Exec-managerial\"\n        ],\n        \"semantic_type\": \"\",\n        \"description\": \"\"\n      }\n    },\n    {\n      \"column\": \"relationship\",\n      \"properties\": {\n        \"dtype\": \"string\",\n        \"num_unique_values\": 2,\n        \"samples\": [\n          \" Husband\",\n          \" Not-in-family\"\n        ],\n        \"semantic_type\": \"\",\n        \"description\": \"\"\n      }\n    },\n    {\n      \"column\": \"race\",\n      \"properties\": {\n        \"dtype\": \"category\",\n        \"num_unique_values\": 1,\n        \"samples\": [\n          \" White\"\n        ],\n        \"semantic_type\": \"\",\n        \"description\": \"\"\n      }\n    },\n    {\n      \"column\": \"sex\",\n      \"properties\": {\n        \"dtype\": \"category\",\n        \"num_unique_values\": 1,\n        \"samples\": [\n          \" Male\"\n        ],\n        \"semantic_type\": \"\",\n        \"description\": \"\"\n      }\n    },\n    {\n      \"column\": \"capgain\",\n      \"properties\": {\n        \"dtype\": \"number\",\n        \"std\": 1255,\n        \"min\": 0,\n        \"max\": 2174,\n        \"num_unique_values\": 2,\n        \"samples\": [\n          0\n        ],\n        \"semantic_type\": \"\",\n        \"description\": \"\"\n      }\n    },\n    {\n      \"column\": \"caploss\",\n      \"properties\": {\n        \"dtype\": \"number\",\n        \"std\": 0,\n        \"min\": 0,\n        \"max\": 0,\n        \"num_unique_values\": 1,\n        \"samples\": [\n          0\n        ],\n        \"semantic_type\": \"\",\n        \"description\": \"\"\n      }\n    },\n    {\n      \"column\": \"workhr\",\n      \"properties\": {\n        \"dtype\": \"number\",\n        \"std\": 15,\n        \"min\": 13,\n        \"max\": 40,\n        \"num_unique_values\": 2,\n        \"samples\": [\n          13\n        ],\n        \"semantic_type\": \"\",\n        \"description\": \"\"\n      }\n    },\n    {\n      \"column\": \"country\",\n      \"properties\": {\n        \"dtype\": \"category\",\n        \"num_unique_values\": 1,\n        \"samples\": [\n          \" United-States\"\n        ],\n        \"semantic_type\": \"\",\n        \"description\": \"\"\n      }\n    }\n  ]\n}"
            }
          },
          "metadata": {},
          "execution_count": 99
        }
      ],
      "source": [
        "df[:3] # show the first 3 records"
      ]
    },
    {
      "cell_type": "markdown",
      "metadata": {
        "id": "gBOojI6W1pqA"
      },
      "source": [
        "Alternatively, we can slice based on column names,\n",
        "for example `df[\"race\"]`, `df[\"hr\"]`, or even index multiple columns\n",
        "like below."
      ]
    },
    {
      "cell_type": "code",
      "execution_count": null,
      "metadata": {
        "colab": {
          "base_uri": "https://localhost:8080/",
          "height": 143
        },
        "id": "4v6pp73A1pqB",
        "outputId": "320d49c6-afd3-4592-fcae-babe1431e5cf"
      },
      "outputs": [
        {
          "output_type": "execute_result",
          "data": {
            "text/plain": [
              "   age  yredu  capgain  caploss  workhr\n",
              "0   39     13     2174        0      40\n",
              "1   50     13        0        0      13\n",
              "2   38      9        0        0      40"
            ],
            "text/html": [
              "\n",
              "  <div id=\"df-4167ec99-6757-44a1-9e18-c01daad84467\" class=\"colab-df-container\">\n",
              "    <div>\n",
              "<style scoped>\n",
              "    .dataframe tbody tr th:only-of-type {\n",
              "        vertical-align: middle;\n",
              "    }\n",
              "\n",
              "    .dataframe tbody tr th {\n",
              "        vertical-align: top;\n",
              "    }\n",
              "\n",
              "    .dataframe thead th {\n",
              "        text-align: right;\n",
              "    }\n",
              "</style>\n",
              "<table border=\"1\" class=\"dataframe\">\n",
              "  <thead>\n",
              "    <tr style=\"text-align: right;\">\n",
              "      <th></th>\n",
              "      <th>age</th>\n",
              "      <th>yredu</th>\n",
              "      <th>capgain</th>\n",
              "      <th>caploss</th>\n",
              "      <th>workhr</th>\n",
              "    </tr>\n",
              "  </thead>\n",
              "  <tbody>\n",
              "    <tr>\n",
              "      <th>0</th>\n",
              "      <td>39</td>\n",
              "      <td>13</td>\n",
              "      <td>2174</td>\n",
              "      <td>0</td>\n",
              "      <td>40</td>\n",
              "    </tr>\n",
              "    <tr>\n",
              "      <th>1</th>\n",
              "      <td>50</td>\n",
              "      <td>13</td>\n",
              "      <td>0</td>\n",
              "      <td>0</td>\n",
              "      <td>13</td>\n",
              "    </tr>\n",
              "    <tr>\n",
              "      <th>2</th>\n",
              "      <td>38</td>\n",
              "      <td>9</td>\n",
              "      <td>0</td>\n",
              "      <td>0</td>\n",
              "      <td>40</td>\n",
              "    </tr>\n",
              "  </tbody>\n",
              "</table>\n",
              "</div>\n",
              "    <div class=\"colab-df-buttons\">\n",
              "\n",
              "  <div class=\"colab-df-container\">\n",
              "    <button class=\"colab-df-convert\" onclick=\"convertToInteractive('df-4167ec99-6757-44a1-9e18-c01daad84467')\"\n",
              "            title=\"Convert this dataframe to an interactive table.\"\n",
              "            style=\"display:none;\">\n",
              "\n",
              "  <svg xmlns=\"http://www.w3.org/2000/svg\" height=\"24px\" viewBox=\"0 -960 960 960\">\n",
              "    <path d=\"M120-120v-720h720v720H120Zm60-500h600v-160H180v160Zm220 220h160v-160H400v160Zm0 220h160v-160H400v160ZM180-400h160v-160H180v160Zm440 0h160v-160H620v160ZM180-180h160v-160H180v160Zm440 0h160v-160H620v160Z\"/>\n",
              "  </svg>\n",
              "    </button>\n",
              "\n",
              "  <style>\n",
              "    .colab-df-container {\n",
              "      display:flex;\n",
              "      gap: 12px;\n",
              "    }\n",
              "\n",
              "    .colab-df-convert {\n",
              "      background-color: #E8F0FE;\n",
              "      border: none;\n",
              "      border-radius: 50%;\n",
              "      cursor: pointer;\n",
              "      display: none;\n",
              "      fill: #1967D2;\n",
              "      height: 32px;\n",
              "      padding: 0 0 0 0;\n",
              "      width: 32px;\n",
              "    }\n",
              "\n",
              "    .colab-df-convert:hover {\n",
              "      background-color: #E2EBFA;\n",
              "      box-shadow: 0px 1px 2px rgba(60, 64, 67, 0.3), 0px 1px 3px 1px rgba(60, 64, 67, 0.15);\n",
              "      fill: #174EA6;\n",
              "    }\n",
              "\n",
              "    .colab-df-buttons div {\n",
              "      margin-bottom: 4px;\n",
              "    }\n",
              "\n",
              "    [theme=dark] .colab-df-convert {\n",
              "      background-color: #3B4455;\n",
              "      fill: #D2E3FC;\n",
              "    }\n",
              "\n",
              "    [theme=dark] .colab-df-convert:hover {\n",
              "      background-color: #434B5C;\n",
              "      box-shadow: 0px 1px 3px 1px rgba(0, 0, 0, 0.15);\n",
              "      filter: drop-shadow(0px 1px 2px rgba(0, 0, 0, 0.3));\n",
              "      fill: #FFFFFF;\n",
              "    }\n",
              "  </style>\n",
              "\n",
              "    <script>\n",
              "      const buttonEl =\n",
              "        document.querySelector('#df-4167ec99-6757-44a1-9e18-c01daad84467 button.colab-df-convert');\n",
              "      buttonEl.style.display =\n",
              "        google.colab.kernel.accessAllowed ? 'block' : 'none';\n",
              "\n",
              "      async function convertToInteractive(key) {\n",
              "        const element = document.querySelector('#df-4167ec99-6757-44a1-9e18-c01daad84467');\n",
              "        const dataTable =\n",
              "          await google.colab.kernel.invokeFunction('convertToInteractive',\n",
              "                                                    [key], {});\n",
              "        if (!dataTable) return;\n",
              "\n",
              "        const docLinkHtml = 'Like what you see? Visit the ' +\n",
              "          '<a target=\"_blank\" href=https://colab.research.google.com/notebooks/data_table.ipynb>data table notebook</a>'\n",
              "          + ' to learn more about interactive tables.';\n",
              "        element.innerHTML = '';\n",
              "        dataTable['output_type'] = 'display_data';\n",
              "        await google.colab.output.renderOutput(dataTable, element);\n",
              "        const docLink = document.createElement('div');\n",
              "        docLink.innerHTML = docLinkHtml;\n",
              "        element.appendChild(docLink);\n",
              "      }\n",
              "    </script>\n",
              "  </div>\n",
              "\n",
              "\n",
              "<div id=\"df-f6bc1142-8bf6-4c6a-915b-c0883a72a600\">\n",
              "  <button class=\"colab-df-quickchart\" onclick=\"quickchart('df-f6bc1142-8bf6-4c6a-915b-c0883a72a600')\"\n",
              "            title=\"Suggest charts\"\n",
              "            style=\"display:none;\">\n",
              "\n",
              "<svg xmlns=\"http://www.w3.org/2000/svg\" height=\"24px\"viewBox=\"0 0 24 24\"\n",
              "     width=\"24px\">\n",
              "    <g>\n",
              "        <path d=\"M19 3H5c-1.1 0-2 .9-2 2v14c0 1.1.9 2 2 2h14c1.1 0 2-.9 2-2V5c0-1.1-.9-2-2-2zM9 17H7v-7h2v7zm4 0h-2V7h2v10zm4 0h-2v-4h2v4z\"/>\n",
              "    </g>\n",
              "</svg>\n",
              "  </button>\n",
              "\n",
              "<style>\n",
              "  .colab-df-quickchart {\n",
              "      --bg-color: #E8F0FE;\n",
              "      --fill-color: #1967D2;\n",
              "      --hover-bg-color: #E2EBFA;\n",
              "      --hover-fill-color: #174EA6;\n",
              "      --disabled-fill-color: #AAA;\n",
              "      --disabled-bg-color: #DDD;\n",
              "  }\n",
              "\n",
              "  [theme=dark] .colab-df-quickchart {\n",
              "      --bg-color: #3B4455;\n",
              "      --fill-color: #D2E3FC;\n",
              "      --hover-bg-color: #434B5C;\n",
              "      --hover-fill-color: #FFFFFF;\n",
              "      --disabled-bg-color: #3B4455;\n",
              "      --disabled-fill-color: #666;\n",
              "  }\n",
              "\n",
              "  .colab-df-quickchart {\n",
              "    background-color: var(--bg-color);\n",
              "    border: none;\n",
              "    border-radius: 50%;\n",
              "    cursor: pointer;\n",
              "    display: none;\n",
              "    fill: var(--fill-color);\n",
              "    height: 32px;\n",
              "    padding: 0;\n",
              "    width: 32px;\n",
              "  }\n",
              "\n",
              "  .colab-df-quickchart:hover {\n",
              "    background-color: var(--hover-bg-color);\n",
              "    box-shadow: 0 1px 2px rgba(60, 64, 67, 0.3), 0 1px 3px 1px rgba(60, 64, 67, 0.15);\n",
              "    fill: var(--button-hover-fill-color);\n",
              "  }\n",
              "\n",
              "  .colab-df-quickchart-complete:disabled,\n",
              "  .colab-df-quickchart-complete:disabled:hover {\n",
              "    background-color: var(--disabled-bg-color);\n",
              "    fill: var(--disabled-fill-color);\n",
              "    box-shadow: none;\n",
              "  }\n",
              "\n",
              "  .colab-df-spinner {\n",
              "    border: 2px solid var(--fill-color);\n",
              "    border-color: transparent;\n",
              "    border-bottom-color: var(--fill-color);\n",
              "    animation:\n",
              "      spin 1s steps(1) infinite;\n",
              "  }\n",
              "\n",
              "  @keyframes spin {\n",
              "    0% {\n",
              "      border-color: transparent;\n",
              "      border-bottom-color: var(--fill-color);\n",
              "      border-left-color: var(--fill-color);\n",
              "    }\n",
              "    20% {\n",
              "      border-color: transparent;\n",
              "      border-left-color: var(--fill-color);\n",
              "      border-top-color: var(--fill-color);\n",
              "    }\n",
              "    30% {\n",
              "      border-color: transparent;\n",
              "      border-left-color: var(--fill-color);\n",
              "      border-top-color: var(--fill-color);\n",
              "      border-right-color: var(--fill-color);\n",
              "    }\n",
              "    40% {\n",
              "      border-color: transparent;\n",
              "      border-right-color: var(--fill-color);\n",
              "      border-top-color: var(--fill-color);\n",
              "    }\n",
              "    60% {\n",
              "      border-color: transparent;\n",
              "      border-right-color: var(--fill-color);\n",
              "    }\n",
              "    80% {\n",
              "      border-color: transparent;\n",
              "      border-right-color: var(--fill-color);\n",
              "      border-bottom-color: var(--fill-color);\n",
              "    }\n",
              "    90% {\n",
              "      border-color: transparent;\n",
              "      border-bottom-color: var(--fill-color);\n",
              "    }\n",
              "  }\n",
              "</style>\n",
              "\n",
              "  <script>\n",
              "    async function quickchart(key) {\n",
              "      const quickchartButtonEl =\n",
              "        document.querySelector('#' + key + ' button');\n",
              "      quickchartButtonEl.disabled = true;  // To prevent multiple clicks.\n",
              "      quickchartButtonEl.classList.add('colab-df-spinner');\n",
              "      try {\n",
              "        const charts = await google.colab.kernel.invokeFunction(\n",
              "            'suggestCharts', [key], {});\n",
              "      } catch (error) {\n",
              "        console.error('Error during call to suggestCharts:', error);\n",
              "      }\n",
              "      quickchartButtonEl.classList.remove('colab-df-spinner');\n",
              "      quickchartButtonEl.classList.add('colab-df-quickchart-complete');\n",
              "    }\n",
              "    (() => {\n",
              "      let quickchartButtonEl =\n",
              "        document.querySelector('#df-f6bc1142-8bf6-4c6a-915b-c0883a72a600 button');\n",
              "      quickchartButtonEl.style.display =\n",
              "        google.colab.kernel.accessAllowed ? 'block' : 'none';\n",
              "    })();\n",
              "  </script>\n",
              "</div>\n",
              "\n",
              "    </div>\n",
              "  </div>\n"
            ],
            "application/vnd.google.colaboratory.intrinsic+json": {
              "type": "dataframe",
              "summary": "{\n  \"name\": \"subdf[:3] # show the first 3 records\",\n  \"rows\": 3,\n  \"fields\": [\n    {\n      \"column\": \"age\",\n      \"properties\": {\n        \"dtype\": \"number\",\n        \"std\": 6,\n        \"min\": 38,\n        \"max\": 50,\n        \"num_unique_values\": 3,\n        \"samples\": [\n          39,\n          50,\n          38\n        ],\n        \"semantic_type\": \"\",\n        \"description\": \"\"\n      }\n    },\n    {\n      \"column\": \"yredu\",\n      \"properties\": {\n        \"dtype\": \"number\",\n        \"std\": 2,\n        \"min\": 9,\n        \"max\": 13,\n        \"num_unique_values\": 2,\n        \"samples\": [\n          9,\n          13\n        ],\n        \"semantic_type\": \"\",\n        \"description\": \"\"\n      }\n    },\n    {\n      \"column\": \"capgain\",\n      \"properties\": {\n        \"dtype\": \"number\",\n        \"std\": 1255,\n        \"min\": 0,\n        \"max\": 2174,\n        \"num_unique_values\": 2,\n        \"samples\": [\n          0,\n          2174\n        ],\n        \"semantic_type\": \"\",\n        \"description\": \"\"\n      }\n    },\n    {\n      \"column\": \"caploss\",\n      \"properties\": {\n        \"dtype\": \"number\",\n        \"std\": 0,\n        \"min\": 0,\n        \"max\": 0,\n        \"num_unique_values\": 1,\n        \"samples\": [\n          0\n        ],\n        \"semantic_type\": \"\",\n        \"description\": \"\"\n      }\n    },\n    {\n      \"column\": \"workhr\",\n      \"properties\": {\n        \"dtype\": \"number\",\n        \"std\": 15,\n        \"min\": 13,\n        \"max\": 40,\n        \"num_unique_values\": 2,\n        \"samples\": [\n          13\n        ],\n        \"semantic_type\": \"\",\n        \"description\": \"\"\n      }\n    }\n  ]\n}"
            }
          },
          "metadata": {},
          "execution_count": 100
        }
      ],
      "source": [
        "subdf = df[[\"age\", \"yredu\", \"capgain\", \"caploss\", \"workhr\"]]\n",
        "subdf[:3] # show the first 3 records"
      ]
    },
    {
      "cell_type": "markdown",
      "metadata": {
        "id": "2Nru2P0E1pqD"
      },
      "source": [
        "Numpy works nicely with pandas, like below:"
      ]
    },
    {
      "cell_type": "code",
      "execution_count": null,
      "metadata": {
        "colab": {
          "base_uri": "https://localhost:8080/"
        },
        "id": "JXrS6tjp1pqE",
        "outputId": "e89f4302-2c47-4edc-ef44-5a2a496f85f3"
      },
      "outputs": [
        {
          "output_type": "execute_result",
          "data": {
            "text/plain": [
              "2842700"
            ]
          },
          "metadata": {},
          "execution_count": 101
        }
      ],
      "source": [
        "np.sum(subdf[\"caploss\"])"
      ]
    },
    {
      "cell_type": "markdown",
      "metadata": {
        "id": "Mv5mbxDM1pqH"
      },
      "source": [
        "Just like numpy arrays, you can modify\n",
        "entire columns of data rather than one scalar element at a time.\n",
        "For example, the code  \n",
        "\n",
        "`df[\"age\"] = df[\"age\"] + 1`\n",
        "\n",
        "would increment everyone's age by 1."
      ]
    },
    {
      "cell_type": "code",
      "execution_count": null,
      "metadata": {
        "colab": {
          "base_uri": "https://localhost:8080/"
        },
        "id": "k5rlWD7-1pqH",
        "jupyter": {
          "outputs_hidden": true
        },
        "outputId": "b970af1b-7cea-4cd4-aebf-a0cc4818b21d"
      },
      "outputs": [
        {
          "output_type": "stream",
          "name": "stdout",
          "text": [
            "            age      yredu       capgain     caploss     workhr\n",
            "min   17.000000   1.000000      0.000000     0.00000   1.000000\n",
            "max   90.000000  16.000000  99999.000000  4356.00000  99.000000\n",
            "mean  38.581647  10.080679   1077.648844    87.30383  40.437456\n"
          ]
        }
      ],
      "source": [
        "#this code displays the min,max and mean values\n",
        "features = [\"age\",\"yredu\",\"capgain\",\"caploss\",\"workhr\"]\n",
        "stats=  df[features].agg([\"min\",\"max\",\"mean\"])\n",
        "print(stats)"
      ]
    },
    {
      "cell_type": "code",
      "source": [
        "# this code normalizes the values\n",
        "for i in features:\n",
        "  min_val = df[features].min()\n",
        "  max_val = df[features].max()\n",
        "  df[features] = (df[features] - min_val) / (max_val - min_val)\n",
        "\n",
        "# Display the first few rows of the normalized dataframe to verify\n",
        "print(df.head())\n"
      ],
      "metadata": {
        "colab": {
          "base_uri": "https://localhost:8080/"
        },
        "id": "iCKp9-8KC2e8",
        "outputId": "18826cdb-c743-4f52-e076-ffaf2cb65909"
      },
      "execution_count": null,
      "outputs": [
        {
          "output_type": "stream",
          "name": "stdout",
          "text": [
            "        age               work  fnlwgt         edu     yredu  \\\n",
            "0  0.301370          State-gov   77516   Bachelors  0.800000   \n",
            "1  0.452055   Self-emp-not-inc   83311   Bachelors  0.800000   \n",
            "2  0.287671            Private  215646     HS-grad  0.533333   \n",
            "3  0.493151            Private  234721        11th  0.400000   \n",
            "4  0.150685            Private  338409   Bachelors  0.800000   \n",
            "\n",
            "              marriage          occupation    relationship    race      sex  \\\n",
            "0        Never-married        Adm-clerical   Not-in-family   White     Male   \n",
            "1   Married-civ-spouse     Exec-managerial         Husband   White     Male   \n",
            "2             Divorced   Handlers-cleaners   Not-in-family   White     Male   \n",
            "3   Married-civ-spouse   Handlers-cleaners         Husband   Black     Male   \n",
            "4   Married-civ-spouse      Prof-specialty            Wife   Black   Female   \n",
            "\n",
            "   capgain  caploss    workhr         country  \n",
            "0  0.02174      0.0  0.397959   United-States  \n",
            "1  0.00000      0.0  0.122449   United-States  \n",
            "2  0.00000      0.0  0.397959   United-States  \n",
            "3  0.00000      0.0  0.397959   United-States  \n",
            "4  0.00000      0.0  0.397959            Cuba  \n"
          ]
        }
      ]
    },
    {
      "cell_type": "markdown",
      "metadata": {
        "id": "qbfMly4R1pqK"
      },
      "source": [
        "### Part (b) Categorical Features [1 pt]\n",
        "\n",
        "What percentage of people in our data set are male? Note that the data labels all have an unfortunate space in the beginning, e.g. \" Male\" instead of \"Male\".\n",
        "\n",
        "What percentage of people in our data set are female?"
      ]
    },
    {
      "cell_type": "code",
      "execution_count": null,
      "metadata": {
        "colab": {
          "base_uri": "https://localhost:8080/"
        },
        "id": "DjAjcsB_1pqK",
        "outputId": "f0673463-014c-4e2c-9696-0d9d16cc8c61"
      },
      "outputs": [
        {
          "output_type": "stream",
          "name": "stdout",
          "text": [
            "Percentage of males: 66.92%\n",
            "Percentage of females: 33.08%\n"
          ]
        }
      ],
      "source": [
        "# hint: you can do something like this in pandas\n",
        "num_of_males= sum(df[\"sex\"] == \" Male\")\n",
        "num_of_females= sum(df[\"sex\"] == \" Female\")\n",
        "\n",
        "# Calculate the total number of records\n",
        "total_records = df.shape[0]\n",
        "\n",
        "# Calculate the percentages\n",
        "percent_males = (num_of_males / total_records) * 100\n",
        "percent_females = (num_of_females / total_records) * 100\n",
        "\n",
        "# Display the results\n",
        "print(f\"Percentage of males: {percent_males:.2f}%\")\n",
        "print(f\"Percentage of females: {percent_females:.2f}%\")\n"
      ]
    },
    {
      "cell_type": "markdown",
      "metadata": {
        "id": "eGVw7pqL1pqN"
      },
      "source": [
        "### Part (c) [2 pt]\n",
        "\n",
        "Before proceeding, we will modify our data frame in a couple more ways:\n",
        "\n",
        "1. We will restrict ourselves to using a subset of the features (to simplify our autoencoder)\n",
        "2. We will remove any records (rows) already containing missing values, and store them in a second dataframe. We will only use records without missing values to train our autoencoder.\n",
        "\n",
        "Both of these steps are done for you, below.\n",
        "\n",
        "How many records contained missing features? What percentage of records were removed?"
      ]
    },
    {
      "cell_type": "code",
      "execution_count": null,
      "metadata": {
        "collapsed": true,
        "id": "z6ewPUdv1pqO",
        "jupyter": {
          "outputs_hidden": true
        }
      },
      "outputs": [],
      "source": [
        "contcols = [\"age\", \"yredu\", \"capgain\", \"caploss\", \"workhr\"]\n",
        "catcols = [\"work\", \"marriage\", \"occupation\", \"edu\", \"relationship\", \"sex\"]\n",
        "features = contcols + catcols\n",
        "df = df[features]"
      ]
    },
    {
      "cell_type": "code",
      "execution_count": null,
      "metadata": {
        "collapsed": true,
        "id": "fjdVll5a1pqQ",
        "jupyter": {
          "outputs_hidden": true
        }
      },
      "outputs": [],
      "source": [
        "missing = pd.concat([df[c] == \" ?\" for c in catcols], axis=1).any(axis=1)\n",
        "df_with_missing = df[missing]\n",
        "df_not_missing = df[~missing]"
      ]
    },
    {
      "cell_type": "code",
      "source": [
        "# Calculate the number of records with missing features\n",
        "num_missing = df_with_missing.shape[0]\n",
        "\n",
        "# Calculate the total number of records\n",
        "total_records = df.shape[0]\n",
        "\n",
        "# Calculate the percentage of records removed\n",
        "percent_removed = (num_missing / total_records) * 100\n",
        "\n",
        "# Display the results\n",
        "print(f\"Number of records with missing features: {num_missing}\")\n",
        "print(f\"Percentage of records removed: {percent_removed:.2f}%\")"
      ],
      "metadata": {
        "colab": {
          "base_uri": "https://localhost:8080/"
        },
        "id": "9hcQzJoaPwpH",
        "outputId": "e75b61d5-0167-46d1-e1c7-178f61b314e8"
      },
      "execution_count": null,
      "outputs": [
        {
          "output_type": "stream",
          "name": "stdout",
          "text": [
            "Number of records with missing features: 1843\n",
            "Percentage of records removed: 5.66%\n"
          ]
        }
      ]
    },
    {
      "cell_type": "markdown",
      "metadata": {
        "id": "XuEpndTQ1pqU"
      },
      "source": [
        "### Part (d) One-Hot Encoding [1 pt]\n",
        "\n",
        "What are all the possible values of the feature \"work\" in `df_not_missing`? You may find the Python function `set` useful."
      ]
    },
    {
      "cell_type": "code",
      "execution_count": null,
      "metadata": {
        "colab": {
          "base_uri": "https://localhost:8080/"
        },
        "id": "iKFh4owE1pqV",
        "jupyter": {
          "outputs_hidden": true
        },
        "outputId": "dd411582-51ef-4e4e-cf10-a4d4bdd72f21"
      },
      "outputs": [
        {
          "output_type": "stream",
          "name": "stdout",
          "text": [
            "{' Self-emp-inc', ' Private', ' Federal-gov', ' Local-gov', ' State-gov', ' Without-pay', ' Self-emp-not-inc'}\n"
          ]
        }
      ],
      "source": [
        "work_values= set(df_not_missing['work'])\n",
        "print(work_values)"
      ]
    },
    {
      "cell_type": "markdown",
      "metadata": {
        "id": "COv3HaKr1pqY"
      },
      "source": [
        "We will be using a one-hot encoding to represent each of the categorical variables.\n",
        "Our autoencoder will be trained using these one-hot encodings.\n",
        "\n",
        "We will use the pandas function `get_dummies` to produce one-hot encodings\n",
        "for all of the categorical variables in `df_not_missing`."
      ]
    },
    {
      "cell_type": "code",
      "execution_count": null,
      "metadata": {
        "collapsed": true,
        "id": "eKlSYmJg1pqZ",
        "jupyter": {
          "outputs_hidden": true
        }
      },
      "outputs": [],
      "source": [
        "data = pd.get_dummies(df_not_missing)"
      ]
    },
    {
      "cell_type": "code",
      "execution_count": null,
      "metadata": {
        "colab": {
          "base_uri": "https://localhost:8080/",
          "height": 262
        },
        "id": "3y7nTZ7H1pqb",
        "jupyter": {
          "outputs_hidden": true
        },
        "scrolled": true,
        "outputId": "68b1162d-78c2-44d5-ea5b-4a220330d49e"
      },
      "outputs": [
        {
          "output_type": "execute_result",
          "data": {
            "text/plain": [
              "        age     yredu  capgain  caploss    workhr  work_ Federal-gov  \\\n",
              "0  0.301370  0.800000  0.02174      0.0  0.397959              False   \n",
              "1  0.452055  0.800000  0.00000      0.0  0.122449              False   \n",
              "2  0.287671  0.533333  0.00000      0.0  0.397959              False   \n",
              "\n",
              "   work_ Local-gov  work_ Private  work_ Self-emp-inc  work_ Self-emp-not-inc  \\\n",
              "0            False          False               False                   False   \n",
              "1            False          False               False                    True   \n",
              "2            False           True               False                   False   \n",
              "\n",
              "   ...  edu_ Prof-school  edu_ Some-college  relationship_ Husband  \\\n",
              "0  ...             False              False                  False   \n",
              "1  ...             False              False                   True   \n",
              "2  ...             False              False                  False   \n",
              "\n",
              "   relationship_ Not-in-family  relationship_ Other-relative  \\\n",
              "0                         True                         False   \n",
              "1                        False                         False   \n",
              "2                         True                         False   \n",
              "\n",
              "   relationship_ Own-child  relationship_ Unmarried  relationship_ Wife  \\\n",
              "0                    False                    False               False   \n",
              "1                    False                    False               False   \n",
              "2                    False                    False               False   \n",
              "\n",
              "   sex_ Female  sex_ Male  \n",
              "0        False       True  \n",
              "1        False       True  \n",
              "2        False       True  \n",
              "\n",
              "[3 rows x 57 columns]"
            ],
            "text/html": [
              "\n",
              "  <div id=\"df-f68e190b-357f-457f-a84b-f876de562877\" class=\"colab-df-container\">\n",
              "    <div>\n",
              "<style scoped>\n",
              "    .dataframe tbody tr th:only-of-type {\n",
              "        vertical-align: middle;\n",
              "    }\n",
              "\n",
              "    .dataframe tbody tr th {\n",
              "        vertical-align: top;\n",
              "    }\n",
              "\n",
              "    .dataframe thead th {\n",
              "        text-align: right;\n",
              "    }\n",
              "</style>\n",
              "<table border=\"1\" class=\"dataframe\">\n",
              "  <thead>\n",
              "    <tr style=\"text-align: right;\">\n",
              "      <th></th>\n",
              "      <th>age</th>\n",
              "      <th>yredu</th>\n",
              "      <th>capgain</th>\n",
              "      <th>caploss</th>\n",
              "      <th>workhr</th>\n",
              "      <th>work_ Federal-gov</th>\n",
              "      <th>work_ Local-gov</th>\n",
              "      <th>work_ Private</th>\n",
              "      <th>work_ Self-emp-inc</th>\n",
              "      <th>work_ Self-emp-not-inc</th>\n",
              "      <th>...</th>\n",
              "      <th>edu_ Prof-school</th>\n",
              "      <th>edu_ Some-college</th>\n",
              "      <th>relationship_ Husband</th>\n",
              "      <th>relationship_ Not-in-family</th>\n",
              "      <th>relationship_ Other-relative</th>\n",
              "      <th>relationship_ Own-child</th>\n",
              "      <th>relationship_ Unmarried</th>\n",
              "      <th>relationship_ Wife</th>\n",
              "      <th>sex_ Female</th>\n",
              "      <th>sex_ Male</th>\n",
              "    </tr>\n",
              "  </thead>\n",
              "  <tbody>\n",
              "    <tr>\n",
              "      <th>0</th>\n",
              "      <td>0.301370</td>\n",
              "      <td>0.800000</td>\n",
              "      <td>0.02174</td>\n",
              "      <td>0.0</td>\n",
              "      <td>0.397959</td>\n",
              "      <td>False</td>\n",
              "      <td>False</td>\n",
              "      <td>False</td>\n",
              "      <td>False</td>\n",
              "      <td>False</td>\n",
              "      <td>...</td>\n",
              "      <td>False</td>\n",
              "      <td>False</td>\n",
              "      <td>False</td>\n",
              "      <td>True</td>\n",
              "      <td>False</td>\n",
              "      <td>False</td>\n",
              "      <td>False</td>\n",
              "      <td>False</td>\n",
              "      <td>False</td>\n",
              "      <td>True</td>\n",
              "    </tr>\n",
              "    <tr>\n",
              "      <th>1</th>\n",
              "      <td>0.452055</td>\n",
              "      <td>0.800000</td>\n",
              "      <td>0.00000</td>\n",
              "      <td>0.0</td>\n",
              "      <td>0.122449</td>\n",
              "      <td>False</td>\n",
              "      <td>False</td>\n",
              "      <td>False</td>\n",
              "      <td>False</td>\n",
              "      <td>True</td>\n",
              "      <td>...</td>\n",
              "      <td>False</td>\n",
              "      <td>False</td>\n",
              "      <td>True</td>\n",
              "      <td>False</td>\n",
              "      <td>False</td>\n",
              "      <td>False</td>\n",
              "      <td>False</td>\n",
              "      <td>False</td>\n",
              "      <td>False</td>\n",
              "      <td>True</td>\n",
              "    </tr>\n",
              "    <tr>\n",
              "      <th>2</th>\n",
              "      <td>0.287671</td>\n",
              "      <td>0.533333</td>\n",
              "      <td>0.00000</td>\n",
              "      <td>0.0</td>\n",
              "      <td>0.397959</td>\n",
              "      <td>False</td>\n",
              "      <td>False</td>\n",
              "      <td>True</td>\n",
              "      <td>False</td>\n",
              "      <td>False</td>\n",
              "      <td>...</td>\n",
              "      <td>False</td>\n",
              "      <td>False</td>\n",
              "      <td>False</td>\n",
              "      <td>True</td>\n",
              "      <td>False</td>\n",
              "      <td>False</td>\n",
              "      <td>False</td>\n",
              "      <td>False</td>\n",
              "      <td>False</td>\n",
              "      <td>True</td>\n",
              "    </tr>\n",
              "  </tbody>\n",
              "</table>\n",
              "<p>3 rows × 57 columns</p>\n",
              "</div>\n",
              "    <div class=\"colab-df-buttons\">\n",
              "\n",
              "  <div class=\"colab-df-container\">\n",
              "    <button class=\"colab-df-convert\" onclick=\"convertToInteractive('df-f68e190b-357f-457f-a84b-f876de562877')\"\n",
              "            title=\"Convert this dataframe to an interactive table.\"\n",
              "            style=\"display:none;\">\n",
              "\n",
              "  <svg xmlns=\"http://www.w3.org/2000/svg\" height=\"24px\" viewBox=\"0 -960 960 960\">\n",
              "    <path d=\"M120-120v-720h720v720H120Zm60-500h600v-160H180v160Zm220 220h160v-160H400v160Zm0 220h160v-160H400v160ZM180-400h160v-160H180v160Zm440 0h160v-160H620v160ZM180-180h160v-160H180v160Zm440 0h160v-160H620v160Z\"/>\n",
              "  </svg>\n",
              "    </button>\n",
              "\n",
              "  <style>\n",
              "    .colab-df-container {\n",
              "      display:flex;\n",
              "      gap: 12px;\n",
              "    }\n",
              "\n",
              "    .colab-df-convert {\n",
              "      background-color: #E8F0FE;\n",
              "      border: none;\n",
              "      border-radius: 50%;\n",
              "      cursor: pointer;\n",
              "      display: none;\n",
              "      fill: #1967D2;\n",
              "      height: 32px;\n",
              "      padding: 0 0 0 0;\n",
              "      width: 32px;\n",
              "    }\n",
              "\n",
              "    .colab-df-convert:hover {\n",
              "      background-color: #E2EBFA;\n",
              "      box-shadow: 0px 1px 2px rgba(60, 64, 67, 0.3), 0px 1px 3px 1px rgba(60, 64, 67, 0.15);\n",
              "      fill: #174EA6;\n",
              "    }\n",
              "\n",
              "    .colab-df-buttons div {\n",
              "      margin-bottom: 4px;\n",
              "    }\n",
              "\n",
              "    [theme=dark] .colab-df-convert {\n",
              "      background-color: #3B4455;\n",
              "      fill: #D2E3FC;\n",
              "    }\n",
              "\n",
              "    [theme=dark] .colab-df-convert:hover {\n",
              "      background-color: #434B5C;\n",
              "      box-shadow: 0px 1px 3px 1px rgba(0, 0, 0, 0.15);\n",
              "      filter: drop-shadow(0px 1px 2px rgba(0, 0, 0, 0.3));\n",
              "      fill: #FFFFFF;\n",
              "    }\n",
              "  </style>\n",
              "\n",
              "    <script>\n",
              "      const buttonEl =\n",
              "        document.querySelector('#df-f68e190b-357f-457f-a84b-f876de562877 button.colab-df-convert');\n",
              "      buttonEl.style.display =\n",
              "        google.colab.kernel.accessAllowed ? 'block' : 'none';\n",
              "\n",
              "      async function convertToInteractive(key) {\n",
              "        const element = document.querySelector('#df-f68e190b-357f-457f-a84b-f876de562877');\n",
              "        const dataTable =\n",
              "          await google.colab.kernel.invokeFunction('convertToInteractive',\n",
              "                                                    [key], {});\n",
              "        if (!dataTable) return;\n",
              "\n",
              "        const docLinkHtml = 'Like what you see? Visit the ' +\n",
              "          '<a target=\"_blank\" href=https://colab.research.google.com/notebooks/data_table.ipynb>data table notebook</a>'\n",
              "          + ' to learn more about interactive tables.';\n",
              "        element.innerHTML = '';\n",
              "        dataTable['output_type'] = 'display_data';\n",
              "        await google.colab.output.renderOutput(dataTable, element);\n",
              "        const docLink = document.createElement('div');\n",
              "        docLink.innerHTML = docLinkHtml;\n",
              "        element.appendChild(docLink);\n",
              "      }\n",
              "    </script>\n",
              "  </div>\n",
              "\n",
              "\n",
              "<div id=\"df-f44ea786-7174-4dc9-b9a5-cfb844ad8165\">\n",
              "  <button class=\"colab-df-quickchart\" onclick=\"quickchart('df-f44ea786-7174-4dc9-b9a5-cfb844ad8165')\"\n",
              "            title=\"Suggest charts\"\n",
              "            style=\"display:none;\">\n",
              "\n",
              "<svg xmlns=\"http://www.w3.org/2000/svg\" height=\"24px\"viewBox=\"0 0 24 24\"\n",
              "     width=\"24px\">\n",
              "    <g>\n",
              "        <path d=\"M19 3H5c-1.1 0-2 .9-2 2v14c0 1.1.9 2 2 2h14c1.1 0 2-.9 2-2V5c0-1.1-.9-2-2-2zM9 17H7v-7h2v7zm4 0h-2V7h2v10zm4 0h-2v-4h2v4z\"/>\n",
              "    </g>\n",
              "</svg>\n",
              "  </button>\n",
              "\n",
              "<style>\n",
              "  .colab-df-quickchart {\n",
              "      --bg-color: #E8F0FE;\n",
              "      --fill-color: #1967D2;\n",
              "      --hover-bg-color: #E2EBFA;\n",
              "      --hover-fill-color: #174EA6;\n",
              "      --disabled-fill-color: #AAA;\n",
              "      --disabled-bg-color: #DDD;\n",
              "  }\n",
              "\n",
              "  [theme=dark] .colab-df-quickchart {\n",
              "      --bg-color: #3B4455;\n",
              "      --fill-color: #D2E3FC;\n",
              "      --hover-bg-color: #434B5C;\n",
              "      --hover-fill-color: #FFFFFF;\n",
              "      --disabled-bg-color: #3B4455;\n",
              "      --disabled-fill-color: #666;\n",
              "  }\n",
              "\n",
              "  .colab-df-quickchart {\n",
              "    background-color: var(--bg-color);\n",
              "    border: none;\n",
              "    border-radius: 50%;\n",
              "    cursor: pointer;\n",
              "    display: none;\n",
              "    fill: var(--fill-color);\n",
              "    height: 32px;\n",
              "    padding: 0;\n",
              "    width: 32px;\n",
              "  }\n",
              "\n",
              "  .colab-df-quickchart:hover {\n",
              "    background-color: var(--hover-bg-color);\n",
              "    box-shadow: 0 1px 2px rgba(60, 64, 67, 0.3), 0 1px 3px 1px rgba(60, 64, 67, 0.15);\n",
              "    fill: var(--button-hover-fill-color);\n",
              "  }\n",
              "\n",
              "  .colab-df-quickchart-complete:disabled,\n",
              "  .colab-df-quickchart-complete:disabled:hover {\n",
              "    background-color: var(--disabled-bg-color);\n",
              "    fill: var(--disabled-fill-color);\n",
              "    box-shadow: none;\n",
              "  }\n",
              "\n",
              "  .colab-df-spinner {\n",
              "    border: 2px solid var(--fill-color);\n",
              "    border-color: transparent;\n",
              "    border-bottom-color: var(--fill-color);\n",
              "    animation:\n",
              "      spin 1s steps(1) infinite;\n",
              "  }\n",
              "\n",
              "  @keyframes spin {\n",
              "    0% {\n",
              "      border-color: transparent;\n",
              "      border-bottom-color: var(--fill-color);\n",
              "      border-left-color: var(--fill-color);\n",
              "    }\n",
              "    20% {\n",
              "      border-color: transparent;\n",
              "      border-left-color: var(--fill-color);\n",
              "      border-top-color: var(--fill-color);\n",
              "    }\n",
              "    30% {\n",
              "      border-color: transparent;\n",
              "      border-left-color: var(--fill-color);\n",
              "      border-top-color: var(--fill-color);\n",
              "      border-right-color: var(--fill-color);\n",
              "    }\n",
              "    40% {\n",
              "      border-color: transparent;\n",
              "      border-right-color: var(--fill-color);\n",
              "      border-top-color: var(--fill-color);\n",
              "    }\n",
              "    60% {\n",
              "      border-color: transparent;\n",
              "      border-right-color: var(--fill-color);\n",
              "    }\n",
              "    80% {\n",
              "      border-color: transparent;\n",
              "      border-right-color: var(--fill-color);\n",
              "      border-bottom-color: var(--fill-color);\n",
              "    }\n",
              "    90% {\n",
              "      border-color: transparent;\n",
              "      border-bottom-color: var(--fill-color);\n",
              "    }\n",
              "  }\n",
              "</style>\n",
              "\n",
              "  <script>\n",
              "    async function quickchart(key) {\n",
              "      const quickchartButtonEl =\n",
              "        document.querySelector('#' + key + ' button');\n",
              "      quickchartButtonEl.disabled = true;  // To prevent multiple clicks.\n",
              "      quickchartButtonEl.classList.add('colab-df-spinner');\n",
              "      try {\n",
              "        const charts = await google.colab.kernel.invokeFunction(\n",
              "            'suggestCharts', [key], {});\n",
              "      } catch (error) {\n",
              "        console.error('Error during call to suggestCharts:', error);\n",
              "      }\n",
              "      quickchartButtonEl.classList.remove('colab-df-spinner');\n",
              "      quickchartButtonEl.classList.add('colab-df-quickchart-complete');\n",
              "    }\n",
              "    (() => {\n",
              "      let quickchartButtonEl =\n",
              "        document.querySelector('#df-f44ea786-7174-4dc9-b9a5-cfb844ad8165 button');\n",
              "      quickchartButtonEl.style.display =\n",
              "        google.colab.kernel.accessAllowed ? 'block' : 'none';\n",
              "    })();\n",
              "  </script>\n",
              "</div>\n",
              "\n",
              "    </div>\n",
              "  </div>\n"
            ],
            "application/vnd.google.colaboratory.intrinsic+json": {
              "type": "dataframe"
            }
          },
          "metadata": {},
          "execution_count": 110
        }
      ],
      "source": [
        "data[:3]"
      ]
    },
    {
      "cell_type": "markdown",
      "metadata": {
        "id": "HwjDg1uM1pqe"
      },
      "source": [
        "### Part (e) One-Hot Encoding [2 pt]\n",
        "\n",
        "The dataframe `data` contains the cleaned and normalized data that we will use to train our denoising autoencoder.\n",
        "\n",
        "How many **columns** (features) are in the dataframe `data`?\n",
        "\n",
        "Briefly explain where that number come from."
      ]
    },
    {
      "cell_type": "code",
      "execution_count": null,
      "metadata": {
        "colab": {
          "base_uri": "https://localhost:8080/"
        },
        "id": "yjZ5N0Tl1pqf",
        "jupyter": {
          "outputs_hidden": true
        },
        "outputId": "fed1a5ab-4c57-4849-e45d-6ff6a94b9a5a"
      },
      "outputs": [
        {
          "output_type": "stream",
          "name": "stdout",
          "text": [
            "57\n"
          ]
        }
      ],
      "source": [
        "num_cols= data.shape[1]\n",
        "print(num_cols)"
      ]
    },
    {
      "cell_type": "markdown",
      "source": [
        "The number 57 represents the number of columns in \"data\" after applying one- got encoding. Each unique value in the category becomes a seperate binary value. For example, the unqie values of \"male\" and \"female\" under the category of \"sex\", get divided into it's own binary column."
      ],
      "metadata": {
        "id": "VYMKjKSjwoFd"
      }
    },
    {
      "cell_type": "markdown",
      "metadata": {
        "id": "OEJ0Ci3l1pqh"
      },
      "source": [
        "### Part (f) One-Hot Conversion [3 pt]\n",
        "\n",
        "We will convert the pandas data frame `data` into numpy, so that\n",
        "it can be further converted into a PyTorch tensor.\n",
        "However, in doing so, we lose the column label information that\n",
        "a panda data frame automatically stores.\n",
        "\n",
        "Complete the function `get_categorical_value` that will return\n",
        "the named value of a feature given a one-hot embedding.\n",
        "You may find the global variables `cat_index` and `cat_values`\n",
        "useful. (Display them and figure out what they are first.)\n",
        "\n",
        "We will need this function in the next part of the lab\n",
        "to interpret our autoencoder outputs. So, the input\n",
        "to our function `get_categorical_values` might not\n",
        "actually be \"one-hot\" -- the input may instead\n",
        "contain real-valued predictions from our neural network."
      ]
    },
    {
      "cell_type": "code",
      "execution_count": null,
      "metadata": {
        "collapsed": true,
        "id": "ZmovX6gu1pqi",
        "jupyter": {
          "outputs_hidden": true
        }
      },
      "outputs": [],
      "source": [
        "datanp = data.values.astype(np.float32)"
      ]
    },
    {
      "cell_type": "code",
      "execution_count": null,
      "metadata": {
        "collapsed": true,
        "id": "YRIa5MBd1pql",
        "jupyter": {
          "outputs_hidden": true
        }
      },
      "outputs": [],
      "source": [
        "cat_index = {}  # Mapping of feature -> start index of feature in a record\n",
        "cat_values = {} # Mapping of feature -> list of categorical values the feature can take\n",
        "\n",
        "# build up the cat_index and cat_values dictionary\n",
        "for i, header in enumerate(data.keys()):\n",
        "    if \"_\" in header: # categorical header\n",
        "        feature, value = header.split()\n",
        "        feature = feature[:-1] # remove the last char; it is always an underscore\n",
        "        if feature not in cat_index:\n",
        "            cat_index[feature] = i\n",
        "            cat_values[feature] = [value]\n",
        "        else:\n",
        "            cat_values[feature].append(value)\n",
        "\n",
        "def get_onehot(record, feature):\n",
        "    \"\"\"\n",
        "    Return the portion of `record` that is the one-hot encoding\n",
        "    of `feature`. For example, since the feature \"work\" is stored\n",
        "    in the indices [5:12] in each record, calling `get_range(record, \"work\")`\n",
        "    is equivalent to accessing `record[5:12]`.\n",
        "\n",
        "    Args:\n",
        "        - record: a numpy array representing one record, formatted\n",
        "                  the same way as a row in `data.np`\n",
        "        - feature: a string, should be an element of `catcols`\n",
        "    \"\"\"\n",
        "    start_index = cat_index[feature]\n",
        "    stop_index = cat_index[feature] + len(cat_values[feature])\n",
        "    return record[start_index:stop_index]\n",
        "\n",
        "def get_categorical_value(onehot, feature):\n",
        "    \"\"\"\n",
        "    Return the categorical value name of a feature given\n",
        "    a one-hot vector representing the feature.\n",
        "\n",
        "    Args:\n",
        "        - onehot: a numpy array one-hot representation of the feature\n",
        "        - feature: a string, should be an element of `catcols`\n",
        "\n",
        "    Examples:\n",
        "\n",
        "    >>> get_categorical_value(np.array([0., 0., 0., 0., 0., 1., 0.]), \"work\")\n",
        "    'State-gov'\n",
        "    >>> get_categorical_value(np.array([0.1, 0., 1.1, 0.2, 0., 1., 0.]), \"work\")\n",
        "    'Private'\n",
        "    \"\"\"\n",
        "    # <----- TODO: WRITE YOUR CODE HERE ----->\n",
        "    # You may find the variables `cat_index` and `cat_values`\n",
        "    # (created above) useful.\n",
        "    max_index = np.argmax(onehot)\n",
        "    return cat_values[feature][max_index]"
      ]
    },
    {
      "cell_type": "code",
      "execution_count": null,
      "metadata": {
        "collapsed": true,
        "id": "T_XXxZdh1pqv",
        "jupyter": {
          "outputs_hidden": true
        }
      },
      "outputs": [],
      "source": [
        "# more useful code, used during training, that depends on the function\n",
        "# you write above\n",
        "\n",
        "def get_feature(record, feature):\n",
        "    \"\"\"\n",
        "    Return the categorical feature value of a record\n",
        "    \"\"\"\n",
        "    onehot = get_onehot(record, feature)\n",
        "    return get_categorical_value(onehot, feature)\n",
        "\n",
        "def get_features(record):\n",
        "    \"\"\"\n",
        "    Return a dictionary of all categorical feature values of a record\n",
        "    \"\"\"\n",
        "    return { f: get_feature(record, f) for f in catcols }"
      ]
    },
    {
      "cell_type": "markdown",
      "metadata": {
        "id": "1_5ZZR_J1pqy"
      },
      "source": [
        "### Part (g) Train/Test Split [3 pt]\n",
        "\n",
        "Randomly split the data into approximately 70% training, 15% validation and 15% test.\n",
        "\n",
        "Report the number of items in your training, validation, and test set."
      ]
    },
    {
      "cell_type": "code",
      "execution_count": null,
      "metadata": {
        "id": "TE_fTJJf1pqz",
        "jupyter": {
          "outputs_hidden": true
        },
        "colab": {
          "base_uri": "https://localhost:8080/"
        },
        "outputId": "f647b38e-5554-4f19-e669-148208e4e8f6"
      },
      "outputs": [
        {
          "output_type": "stream",
          "name": "stdout",
          "text": [
            "Train Set Values: 21502\n",
            "Test Set Values: 4608\n",
            "Val Set Values: 4608\n"
          ]
        }
      ],
      "source": [
        "# set the numpy seed for reproducibility\n",
        "#\"https://docs.scipy.org/doc/numpy/reference/generated/numpy.random.seed.htm\"\n",
        "\n",
        "np.random.seed(50)\n",
        "np.random.shuffle(datanp)\n",
        "\n",
        "train_index = int(datanp.shape[0] * 0.7)\n",
        "val_index = int(datanp.shape[0] * 0.85)\n",
        "\n",
        "train_set = datanp[:train_index]\n",
        "val_set = datanp[train_index:val_index]\n",
        "test_set = datanp[val_index:]\n",
        "print(\"Train Set Values: \" + str(train_set.shape[0]))\n",
        "print(\"Test Set Values: \" + str(val_set.shape[0]))\n",
        "print(\"Val Set Values: \" + str(test_set.shape[0]))"
      ]
    },
    {
      "cell_type": "markdown",
      "metadata": {
        "id": "h9wJAKOI1pq3"
      },
      "source": [
        "## Part 2. Model Setup [5 pt]\n",
        "\n",
        "### Part (a) [4 pt]\n",
        "\n",
        "Design a fully-connected autoencoder by modifying the `encoder` and `decoder`\n",
        "below.\n",
        "\n",
        "The input to this autoencoder will be the features of the `data`, with\n",
        "one categorical feature recorded as \"missing\". The output of the autoencoder\n",
        "should be the reconstruction of the same features, but with the missing\n",
        "value filled in.\n",
        "\n",
        "**Note**: Do not reduce the dimensionality of the input too much!\n",
        "The output of your embedding is expected to contain information\n",
        "about ~11 features."
      ]
    },
    {
      "cell_type": "code",
      "execution_count": null,
      "metadata": {
        "collapsed": true,
        "id": "f3F--tdn1pq3",
        "jupyter": {
          "outputs_hidden": true
        }
      },
      "outputs": [],
      "source": [
        "from torch import nn\n",
        "\n",
        "class AutoEncoder(nn.Module):\n",
        "    def __init__(self):\n",
        "        super(AutoEncoder, self).__init__()\n",
        "\n",
        "        self.encoder = nn.Sequential(\n",
        "            nn.Linear(57, 32), # TODO -- FILL OUT THE CODE HERE!\n",
        "            nn.Linear(32,24),\n",
        "            nn.Linear(24,16) #have not reduced the dimensionality too much. I have assumed that we can keep it 11 or more\n",
        "        )\n",
        "        self.decoder = nn.Sequential(\n",
        "            nn.Linear(16, 24), # TODO -- FILL OUT THE CODE HERE!\n",
        "            nn.Linear(24,32),\n",
        "            nn.Linear(32,57),\n",
        "            nn.Sigmoid() # get to the range (0, 1)\n",
        "        )\n",
        "\n",
        "    def forward(self, x):\n",
        "        x = self.encoder(x)\n",
        "        x = self.decoder(x)\n",
        "        return x"
      ]
    },
    {
      "cell_type": "markdown",
      "metadata": {
        "id": "kuEzTSAv1pq6"
      },
      "source": [
        "### Part (b) [1 pt]\n",
        "\n",
        "Explain why there is a sigmoid activation in the last step of the decoder.\n",
        "\n",
        "(**Note**: the values inside the data frame `data` and the training code in Part 3 might be helpful.)"
      ]
    },
    {
      "cell_type": "markdown",
      "source": [
        "There is a sigmoid activation in the last steps which ensures that the finalized output value are between the ranges of 0 of 1."
      ],
      "metadata": {
        "id": "j7Be8QH68x30"
      }
    },
    {
      "cell_type": "markdown",
      "metadata": {
        "id": "jYwqFWVl1pq8"
      },
      "source": [
        "## Part 3. Training [18]\n",
        "\n",
        "### Part (a) [6 pt]\n",
        "\n",
        "We will train our autoencoder in the following way:\n",
        "\n",
        "- In each iteration, we will hide one of the categorical features using the `zero_out_random_features` function\n",
        "- We will pass the data with one missing feature through the autoencoder, and obtain a reconstruction\n",
        "- We will check how close the reconstruction is compared to the original data -- including the value of the missing feature\n",
        "\n",
        "Complete the code to train the autoencoder, and plot the training and validation loss every few iterations.\n",
        "You may also want to plot training and validation \"accuracy\" every few iterations, as we will define in\n",
        "part (b). You may also want to checkpoint your model every few iterations or epochs.\n",
        "\n",
        "Use `nn.MSELoss()` as your loss function. (Side note: you might recognize that this loss function is not\n",
        "ideal for this problem, but we will use it anyway.)"
      ]
    },
    {
      "cell_type": "code",
      "execution_count": null,
      "metadata": {
        "collapsed": true,
        "id": "IDQA_-dS1pq9",
        "jupyter": {
          "outputs_hidden": true
        }
      },
      "outputs": [],
      "source": [
        "def zero_out_feature(records, feature):\n",
        "    \"\"\" Set the feature missing in records, by setting the appropriate\n",
        "    columns of records to 0\n",
        "    \"\"\"\n",
        "    start_index = cat_index[feature]\n",
        "    stop_index = cat_index[feature] + len(cat_values[feature])\n",
        "    records[:, start_index:stop_index] = 0\n",
        "    return records\n",
        "\n",
        "def zero_out_random_feature(records):\n",
        "    \"\"\" Set one random feature missing in records, by setting the\n",
        "    appropriate columns of records to 0\n",
        "    \"\"\"\n",
        "    return zero_out_feature(records, random.choice(catcols))\n",
        "\n",
        "def train(model, train_loader, valid_loader, num_epochs=5, learning_rate=1e-4):\n",
        "    \"\"\" Training loop. You should update this.\"\"\"\n",
        "    torch.manual_seed(42)\n",
        "    criterion = nn.MSELoss()\n",
        "    optimizer = torch.optim.Adam(model.parameters(), lr=learning_rate)\n",
        "\n",
        "    train_acc = np.zeros(num_epochs)\n",
        "    val_acc = np.zeros(num_epochs)\n",
        "\n",
        "    train_loss = np.zeros(num_epochs)\n",
        "    val_loss = np.zeros(num_epochs)\n",
        "\n",
        "    for epoch in range(num_epochs):\n",
        "        total_loss = 0\n",
        "        i = 0\n",
        "        model.train()\n",
        "        for data in train_loader:\n",
        "            data_zero = zero_out_random_feature(data.clone()) # zero out one categorical feature\n",
        "\n",
        "            recon = model(data_zero)\n",
        "            loss = criterion(recon, data)\n",
        "            loss.backward()\n",
        "            optimizer.step()\n",
        "            optimizer.zero_grad()\n",
        "\n",
        "            total_loss += loss.item()\n",
        "            i += 1\n",
        "\n",
        "        train_acc[epoch] = get_accuracy(model, train_loader)\n",
        "        val_acc[epoch] = get_accuracy(model, valid_loader)\n",
        "        train_loss[epoch] = total_loss / (i + 1)\n",
        "\n",
        "        # Calculate validation loss within the training function\n",
        "        model.eval()\n",
        "        total_val_loss = 0\n",
        "        with torch.no_grad():\n",
        "            for j, val_data in enumerate(valid_loader):\n",
        "                val_data_zero = zero_out_random_feature(val_data.clone()) # zero out one categorical feature\n",
        "                recon_val = model(val_data_zero)\n",
        "                val_loss_batch = criterion(recon_val, val_data)\n",
        "                total_val_loss += val_loss_batch.item()\n",
        "\n",
        "        val_loss[epoch] = total_val_loss / (j + 1)\n",
        "\n",
        "        print(\"epoch: \", epoch, end = \" \")\n",
        "        print(\"train acc: \", train_acc[epoch], end = \" \")\n",
        "        print(\"val acc: \", val_acc[epoch], end = \" \")\n",
        "        print(\"train loss: \", train_loss[epoch], end = \" \")\n",
        "        print(\"val loss: \", val_loss[epoch])\n",
        "\n",
        "    epochs = np.arange(1, num_epochs + 1)\n",
        "\n",
        "    # Plotting training and validation losses\n",
        "    plt.figure(figsize=(10, 5))\n",
        "    plt.plot(epochs, train_loss, label='Train Loss')\n",
        "    plt.plot(epochs, val_loss, label='Valid Loss')\n",
        "    plt.xlabel('Epochs')\n",
        "    plt.ylabel('Loss')\n",
        "    plt.title('Training and Validation Losses')\n",
        "    plt.legend()\n",
        "    plt.show()\n",
        "\n",
        "    # Plotting training and validation accuracy\n",
        "    plt.figure(figsize=(10, 5))\n",
        "    plt.plot(epochs, train_acc, label='Train Accuracy')\n",
        "    plt.plot(epochs, val_acc, label='Valid Accuracy')\n",
        "    plt.xlabel('Epochs')\n",
        "    plt.ylabel('Accuracy')\n",
        "    plt.title('Training and Validation Accuracy')\n",
        "    plt.legend()\n",
        "    plt.show()\n",
        "\n",
        "    #return train_acc, val_acc, train_loss, val_loss, epochs"
      ]
    },
    {
      "cell_type": "markdown",
      "metadata": {
        "id": "WKk01pwx1pq_"
      },
      "source": [
        "### Part (b) [3 pt]\n",
        "\n",
        "While plotting training and validation loss is valuable, loss values are harder to compare\n",
        "than accuracy percentages. It would be nice to have a measure of \"accuracy\" in this problem.\n",
        "\n",
        "Since we will only be imputing missing categorical values, we will define an accuracy measure.\n",
        "For each record and for each categorical feature, we determine whether\n",
        "the model can predict the categorical feature given all the other features of the record.\n",
        "\n",
        "A function `get_accuracy` is written for you. It is up to you to figure out how to\n",
        "use the function. **You don't need to submit anything in this part.**\n",
        "To earn the marks, correctly plot the training and validation accuracy every few\n",
        "iterations as part of your training curve."
      ]
    },
    {
      "cell_type": "code",
      "execution_count": null,
      "metadata": {
        "collapsed": true,
        "id": "bHWLfCzM1pq_",
        "jupyter": {
          "outputs_hidden": true
        }
      },
      "outputs": [],
      "source": [
        "def get_accuracy(model, data_loader):\n",
        "    \"\"\"Return the \"accuracy\" of the autoencoder model across a data set.\n",
        "    That is, for each record and for each categorical feature,\n",
        "    we determine whether the model can successfully predict the value\n",
        "    of the categorical feature given all the other features of the\n",
        "    record. The returned \"accuracy\" measure is the percentage of times\n",
        "    that our model is successful.\n",
        "\n",
        "    Args:\n",
        "       - model: the autoencoder model, an instance of nn.Module\n",
        "       - data_loader: an instance of torch.utils.data.DataLoader\n",
        "\n",
        "    Example (to illustrate how get_accuracy is intended to be called.\n",
        "             Depending on your variable naming this code might require\n",
        "             modification.)\n",
        "\n",
        "        >>> model = AutoEncoder()\n",
        "        >>> vdl = torch.utils.data.DataLoader(data_valid, batch_size=256, shuffle=True)\n",
        "        >>> get_accuracy(model, vdl)\n",
        "    \"\"\"\n",
        "    total = 0\n",
        "    acc = 0\n",
        "    for col in catcols:\n",
        "        for item in data_loader: # minibatches\n",
        "            inp = item.detach().numpy()\n",
        "            out = model(zero_out_feature(item.clone(), col)).detach().numpy()\n",
        "            for i in range(out.shape[0]): # record in minibatch\n",
        "                acc += int(get_feature(out[i], col) == get_feature(inp[i], col))\n",
        "                total += 1\n",
        "    return acc / total"
      ]
    },
    {
      "cell_type": "markdown",
      "metadata": {
        "id": "SxCTlXoV1prB"
      },
      "source": [
        "### Part (c) [4 pt]\n",
        "\n",
        "Run your updated training code, using reasonable initial hyperparameters.\n",
        "\n",
        "Include your training curve in your submission."
      ]
    },
    {
      "cell_type": "code",
      "execution_count": null,
      "metadata": {
        "id": "nj5b71l-1prC",
        "jupyter": {
          "outputs_hidden": true
        },
        "colab": {
          "base_uri": "https://localhost:8080/",
          "height": 1000
        },
        "outputId": "776a7d79-5261-4b91-deeb-69cd8b60a5ce"
      },
      "outputs": [
        {
          "output_type": "stream",
          "name": "stdout",
          "text": [
            "epoch:  0 train acc:  0.4380755278578737 val acc:  0.43702980324074076 train loss:  0.15782063973940444 val loss:  0.07399866833455032\n",
            "epoch:  1 train acc:  0.4590580721173224 val acc:  0.4580078125 train loss:  0.07124796511953592 val loss:  0.07067453706016143\n",
            "epoch:  2 train acc:  0.45907357455120457 val acc:  0.4580078125 train loss:  0.07013842412643688 val loss:  0.07005778224103981\n",
            "epoch:  3 train acc:  0.4590813257681456 val acc:  0.4580078125 train loss:  0.06943830664239227 val loss:  0.06927766050729486\n",
            "epoch:  4 train acc:  0.4711577217623167 val acc:  0.46958188657407407 train loss:  0.06810545640547128 val loss:  0.06672201719548967\n",
            "epoch:  5 train acc:  0.5369888072427371 val acc:  0.5377965856481481 train loss:  0.06182763443635196 val loss:  0.0573669026295344\n",
            "epoch:  6 train acc:  0.5542895234551825 val acc:  0.5537832754629629 train loss:  0.05582081862567794 val loss:  0.055059606157657176\n",
            "epoch:  7 train acc:  0.560335472669209 val acc:  0.5599320023148148 train loss:  0.05474208514219929 val loss:  0.054370229649874896\n",
            "epoch:  8 train acc:  0.5627771060056429 val acc:  0.5621383101851852 train loss:  0.053973327703132824 val loss:  0.05381003637901611\n",
            "epoch:  9 train acc:  0.570970142312343 val acc:  0.5700593171296297 train loss:  0.053469317768996126 val loss:  0.05321509727380342\n",
            "epoch:  10 train acc:  0.5702570303537655 val acc:  0.5678530092592593 train loss:  0.053087089641865357 val loss:  0.05238887952226731\n",
            "epoch:  11 train acc:  0.5713732055932782 val acc:  0.5693721064814815 train loss:  0.05158530413352771 val loss:  0.050299956256316766\n",
            "epoch:  12 train acc:  0.568365733420147 val acc:  0.5651765046296297 train loss:  0.04925707939912728 val loss:  0.04862688419719537\n",
            "epoch:  13 train acc:  0.5670635289740489 val acc:  0.5658998842592593 train loss:  0.04816786143431324 val loss:  0.04794651394089063\n",
            "epoch:  14 train acc:  0.5682029578643847 val acc:  0.5677806712962963 train loss:  0.04755025256414088 val loss:  0.04741718449319402\n",
            "epoch:  15 train acc:  0.5702957864384708 val acc:  0.5700231481481481 train loss:  0.047285805503320975 val loss:  0.0473105097706947\n",
            "epoch:  16 train acc:  0.5692571233683689 val acc:  0.5686487268518519 train loss:  0.046980062869960544 val loss:  0.0471462603761918\n",
            "epoch:  17 train acc:  0.5710011471801073 val acc:  0.5704210069444444 train loss:  0.04671214262261235 val loss:  0.0466880472894344\n",
            "epoch:  18 train acc:  0.5734582829504232 val acc:  0.5717230902777778 train loss:  0.046512829145355816 val loss:  0.04634846798661682\n",
            "epoch:  19 train acc:  0.574078380305708 val acc:  0.5715060763888888 train loss:  0.045836579220408145 val loss:  0.0454607171834343\n",
            "epoch:  20 train acc:  0.5785818373484637 val acc:  0.5743634259259259 train loss:  0.044646826768929594 val loss:  0.044029689807858735\n",
            "epoch:  21 train acc:  0.5848990791554274 val acc:  0.5815610532407407 train loss:  0.04311604551329811 val loss:  0.04260066617280245\n",
            "epoch:  22 train acc:  0.5841084550274394 val acc:  0.5811270254629629 train loss:  0.04190186405615212 val loss:  0.041600427176389426\n",
            "epoch:  23 train acc:  0.5862477909031718 val acc:  0.5831163194444444 train loss:  0.04100569108782961 val loss:  0.0407562181353569\n",
            "epoch:  24 train acc:  0.5893250240287725 val acc:  0.5883246527777778 train loss:  0.04001819166611847 val loss:  0.03975903196260333\n",
            "epoch:  25 train acc:  0.5907434967289864 val acc:  0.5890480324074074 train loss:  0.03852475958514284 val loss:  0.03804657261611687\n",
            "epoch:  26 train acc:  0.5869996589464546 val acc:  0.5840567129629629 train loss:  0.037004356601383286 val loss:  0.03676870936113927\n",
            "epoch:  27 train acc:  0.5862167860354076 val acc:  0.5829354745370371 train loss:  0.03604844036216375 val loss:  0.036047606754841074\n",
            "epoch:  28 train acc:  0.5909140235016898 val acc:  0.5877821180555556 train loss:  0.03556807921198957 val loss:  0.03532416094094515\n",
            "epoch:  29 train acc:  0.5902086627600533 val acc:  0.5854311342592593 train loss:  0.03510994554251344 val loss:  0.03517430565423436\n"
          ]
        },
        {
          "output_type": "display_data",
          "data": {
            "text/plain": [
              "<Figure size 1000x500 with 1 Axes>"
            ],
            "image/png": "[encoded data removed]"
          },
          "metadata": {}
        },
        {
          "output_type": "display_data",
          "data": {
            "text/plain": [
              "<Figure size 1000x500 with 1 Axes>"
            ],
            "image/png": "[encoded data removed]"
          },
          "metadata": {}
        }
      ],
      "source": [
        "train_loader = torch.utils.data.DataLoader(train_set, batch_size=64, num_workers=1)\n",
        "valid_loader = torch.utils.data.DataLoader(val_set, batch_size=64, num_workers=1)\n",
        "test_loader = torch.utils.data.DataLoader(test_set, batch_size=64, num_workers=1)\n",
        "autoencoder_A = AutoEncoder()\n",
        "train(autoencoder_A, train_loader, valid_loader, num_epochs=30, learning_rate=1e-4)"
      ]
    },
    {
      "cell_type": "markdown",
      "metadata": {
        "id": "h9xTwIf51prF"
      },
      "source": [
        "### Part (d) [5 pt]\n",
        "\n",
        "Tune your hyperparameters, training at least 4 different models (4 sets of hyperparameters).\n",
        "\n",
        "Do not include all your training curves. Instead, explain what hyperparameters\n",
        "you tried, what their effect was, and what your thought process was as you\n",
        "chose the next set of hyperparameters to try."
      ]
    },
    {
      "cell_type": "code",
      "execution_count": null,
      "metadata": {
        "collapsed": true,
        "id": "PhTKt9iL1prG",
        "jupyter": {
          "outputs_hidden": true
        }
      },
      "outputs": [],
      "source": [
        "#hyp_tuning_1= AutoEncoder()\n",
        "#train(hyp_tuning_1, train_loader, valid_loader, num_epochs=40, learning_rate=1e-4)\n",
        "#the number of epochs was increased from 30 to 40. All the other hyperparameter settings remained the same, batch_size=64 and learning_rate=1e-4.\n",
        "# Results: Validation Accuracy: 58.8% and Training Accuracy: 59.04%, Training Loss: 0.03 and Validation Loss: 0.034\n",
        "\n",
        "#hyp_tuning_2= AutoEncoder()\n",
        "#train(hyp_tuning_2, train_loader, valid_loader, num_epochs=40, learning_rate=1e-5)\n",
        "#the number of epochs was kept 40, as it resulted in better validation accuracies. The learning rate is reduced to 1e-5, to observe if a lower\n",
        "#learning rate leads to better validation accuracies.\n",
        "#Results: Validation Accuracy: 49.8%, Training Accuracy: 49.9%, Training Loss= 0.06, Validation Loss= 0.061. It is important to note how the\n",
        "#training accuracies have gotten significantly worse, so in the next model, I would like to observe the results of increasing the learning rate.\n",
        "\n",
        "#hyp_tuning_3= AutoEncoder()\n",
        "#train(hyp_tuning_3, train_loader, valid_loader, num_epochs=50, learning_rate=1e-3)\n",
        "#In this model I have increased the num_epochs to 50 and the learning_rate=1e-3.\n",
        "#Results: Validation Accuracy: 59.8%, Training Accuracy: 60.3%, Training Loss= 0.0191, Validation Loss= 0.02. The increase in the\n",
        "#learning rate also led to a very noisy graph for Validation and Training Accuracies.\n",
        "\n",
        "#hyp_tuning_4= AutoEncoder()\n",
        "#train_loader = torch.utils.data.DataLoader(train_set, batch_size=32, num_workers=1)\n",
        "#valid_loader = torch.utils.data.DataLoader(val_set, batch_size=32, num_workers=1)\n",
        "#train(hyp_tuning_4, train_loader, valid_loader, num_epochs=40, learning_rate=1e-4)\n",
        "#In this model, I reduced the batch_sizes to 32 and kept num_epochs=40 and switched the learning_rate back to 1e-4 as it provided a better result previously.\n",
        "#Results: Validation Accuracy: 59.7%, Training Accuracy: 60.1%, Training Loss= 0.0264, Validation Loss= 0.027027"
      ]
    },
    {
      "cell_type": "code",
      "source": [
        "#Now printing out the results of the best model\n",
        "hyp_tuning_2= AutoEncoder()\n",
        "train(hyp_tuning_2, train_loader, valid_loader, num_epochs=40, learning_rate=1e-3)"
      ],
      "metadata": {
        "colab": {
          "base_uri": "https://localhost:8080/",
          "height": 1000
        },
        "id": "XaUXoGEFWQxB",
        "outputId": "d821cfc1-a428-4aca-e3e3-7f29e5752c49"
      },
      "execution_count": null,
      "outputs": [
        {
          "output_type": "stream",
          "name": "stdout",
          "text": [
            "epoch:  0 train acc:  0.5633817009270455 val acc:  0.5618851273148148 train loss:  0.07667285341006712 val loss:  0.053138880162603326\n",
            "epoch:  1 train acc:  0.5644281152140886 val acc:  0.5650318287037037 train loss:  0.04762996286595964 val loss:  0.042560561611834496\n",
            "epoch:  2 train acc:  0.5899761262518215 val acc:  0.5881799768518519 train loss:  0.03951562235258984 val loss:  0.03646428145778676\n",
            "epoch:  3 train acc:  0.5864880786283446 val acc:  0.5864438657407407 train loss:  0.0357580058144002 val loss:  0.03472840840307375\n",
            "epoch:  4 train acc:  0.5986729916596906 val acc:  0.595703125 train loss:  0.03347400400665995 val loss:  0.03194429909086062\n",
            "epoch:  5 train acc:  0.5911388087929805 val acc:  0.5891565393518519 train loss:  0.03092171438038349 val loss:  0.030644760182541277\n",
            "epoch:  6 train acc:  0.5986109819241621 val acc:  0.5926649305555556 train loss:  0.02941872451443347 val loss:  0.028285969695490267\n",
            "epoch:  7 train acc:  0.5956035097510309 val acc:  0.5903862847222222 train loss:  0.027422449946713022 val loss:  0.026990787617655262\n",
            "epoch:  8 train acc:  0.6001922301801382 val acc:  0.5955222800925926 train loss:  0.026460693878306834 val loss:  0.026656377801878586\n",
            "epoch:  9 train acc:  0.6024400830930456 val acc:  0.5978370949074074 train loss:  0.02594085157647154 val loss:  0.026713636600308947\n",
            "epoch:  10 train acc:  0.6029904194958609 val acc:  0.5975839120370371 train loss:  0.025959035083209372 val loss:  0.026451342946125403\n",
            "epoch:  11 train acc:  0.5989675379034508 val acc:  0.5954499421296297 train loss:  0.0254137589256293 val loss:  0.0259544572327286\n",
            "epoch:  12 train acc:  0.6059591355842867 val acc:  0.6022135416666666 train loss:  0.025214332515147212 val loss:  0.02563801019762953\n",
            "epoch:  13 train acc:  0.6033547266920907 val acc:  0.5998987268518519 train loss:  0.02475945112359011 val loss:  0.025332660388408437\n",
            "epoch:  14 train acc:  0.608206988497194 val acc:  0.6035517939814815 train loss:  0.024692943463383868 val loss:  0.025064032369603712\n",
            "epoch:  15 train acc:  0.6060599014045205 val acc:  0.6018518518518519 train loss:  0.024180915670950265 val loss:  0.025397241037959855\n",
            "epoch:  16 train acc:  0.6031066877499768 val acc:  0.5991030092592593 train loss:  0.02470675645291098 val loss:  0.024579418409201834\n",
            "epoch:  17 train acc:  0.6061684184416953 val acc:  0.6031539351851852 train loss:  0.02420066336296963 val loss:  0.023980676403476134\n",
            "epoch:  18 train acc:  0.5986264843580442 val acc:  0.5955584490740741 train loss:  0.024184500701858135 val loss:  0.024470315185478993\n",
            "epoch:  19 train acc:  0.6103308219390444 val acc:  0.6063368055555556 train loss:  0.024304694758634185 val loss:  0.0240882877777848\n",
            "epoch:  20 train acc:  0.6058196136793477 val acc:  0.6020326967592593 train loss:  0.024148000647432725 val loss:  0.02406910204121636\n",
            "epoch:  21 train acc:  0.6036260192850278 val acc:  0.5993200231481481 train loss:  0.023901626644573154 val loss:  0.02357116610639625\n",
            "epoch:  22 train acc:  0.6077419154807304 val acc:  0.6032986111111112 train loss:  0.024228822489653214 val loss:  0.024363352425603405\n",
            "epoch:  23 train acc:  0.6068660279663908 val acc:  0.6017433449074074 train loss:  0.02367712091654539 val loss:  0.024305867910799053\n",
            "epoch:  24 train acc:  0.6077651691315537 val acc:  0.6039858217592593 train loss:  0.023596281365378145 val loss:  0.02414204992560877\n",
            "epoch:  25 train acc:  0.6070443059560351 val acc:  0.6028284143518519 train loss:  0.023140947566608117 val loss:  0.023804610258796148\n",
            "epoch:  26 train acc:  0.609625461197408 val acc:  0.6067708333333334 train loss:  0.022673738219440867 val loss:  0.023163220301891368\n",
            "epoch:  27 train acc:  0.6101137878646947 val acc:  0.6061197916666666 train loss:  0.022543489407935907 val loss:  0.022646845137286518\n",
            "epoch:  28 train acc:  0.6069822962205066 val acc:  0.6039134837962963 train loss:  0.02246973169718811 val loss:  0.022292712768022385\n",
            "epoch:  29 train acc:  0.6147722692462717 val acc:  0.6104962384259259 train loss:  0.022497875350651828 val loss:  0.0215968809918397\n",
            "epoch:  30 train acc:  0.6173844293554088 val acc:  0.6131004050925926 train loss:  0.021783447647550164 val loss:  0.022327895819519956\n",
            "epoch:  31 train acc:  0.612880972312653 val acc:  0.6072771990740741 train loss:  0.021880425128654662 val loss:  0.021652837542610034\n",
            "epoch:  32 train acc:  0.615066815490032 val acc:  0.6103153935185185 train loss:  0.02177223752775072 val loss:  0.02126385887256927\n",
            "epoch:  33 train acc:  0.6139893963352246 val acc:  0.6092664930555556 train loss:  0.021172936196032725 val loss:  0.02154611913849496\n",
            "epoch:  34 train acc:  0.6155706445912008 val acc:  0.6125217013888888 train loss:  0.021062171711235443 val loss:  0.020467870390146144\n",
            "epoch:  35 train acc:  0.6175162000434068 val acc:  0.6127748842592593 train loss:  0.020898809186694175 val loss:  0.020772551393343344\n",
            "epoch:  36 train acc:  0.6215003255511116 val acc:  0.6165726273148148 train loss:  0.02027361656232386 val loss:  0.02096562905030118\n",
            "epoch:  37 train acc:  0.6185161070288036 val acc:  0.6136067708333334 train loss:  0.020352342182587975 val loss:  0.0207183129257626\n",
            "epoch:  38 train acc:  0.6164775369733048 val acc:  0.6104600694444444 train loss:  0.02042521784242342 val loss:  0.020643398760714464\n",
            "epoch:  39 train acc:  0.6193144823737327 val acc:  0.6150535300925926 train loss:  0.019831163460493795 val loss:  0.019659938019079466\n"
          ]
        },
        {
          "output_type": "display_data",
          "data": {
            "text/plain": [
              "<Figure size 1000x500 with 1 Axes>"
            ],
            "image/png": "[encoded data removed]"
          },
          "metadata": {}
        },
        {
          "output_type": "display_data",
          "data": {
            "text/plain": [
              "<Figure size 1000x500 with 1 Axes>"
            ],
            "image/png": "[encoded data removed]"
          },
          "metadata": {}
        }
      ]
    },
    {
      "cell_type": "markdown",
      "metadata": {
        "id": "ymCsZH291prI"
      },
      "source": [
        "## Part 4. Testing [12 pt]\n",
        "\n",
        "### Part (a) [2 pt]\n",
        "\n",
        "Compute and report the test accuracy."
      ]
    },
    {
      "cell_type": "code",
      "execution_count": null,
      "metadata": {
        "id": "0OkSbup91prJ",
        "jupyter": {
          "outputs_hidden": true
        },
        "colab": {
          "base_uri": "https://localhost:8080/"
        },
        "outputId": "13457df7-4355-40a9-e086-941d86831c06"
      },
      "outputs": [
        {
          "output_type": "stream",
          "name": "stdout",
          "text": [
            "61.704282407407405\n"
          ]
        }
      ],
      "source": [
        "test_accuracy= get_accuracy(hyp_tuning_2,test_loader)\n",
        "print(test_accuracy * 100)"
      ]
    },
    {
      "cell_type": "markdown",
      "source": [
        "Therefore, it can be seen that the test_set reports around 61.7% accuracy."
      ],
      "metadata": {
        "id": "RAWcbCLm7Bm1"
      }
    },
    {
      "cell_type": "markdown",
      "metadata": {
        "id": "UEe9yt6L1prM"
      },
      "source": [
        "### Part (b) [4 pt]\n",
        "\n",
        "Based on the test accuracy alone, it is difficult to assess whether our model\n",
        "is actually performing well. We don't know whether a high accuracy is due to\n",
        "the simplicity of the problem, or if a poor accuracy is a result of the inherent\n",
        "difficulty of the problem.\n",
        "\n",
        "It is therefore very important to be able to compare our model to at least one\n",
        "alternative. In particular, we consider a simple **baseline**\n",
        "model that is not very computationally expensive. Our neural network\n",
        "should at least outperform this baseline model. If our network is not much\n",
        "better than the baseline, then it is not doing well.\n",
        "\n",
        "For our data imputation problem, consider the following baseline model:\n",
        "to predict a missing feature, the baseline model will look at the **most common value** of the feature in the training set.\n",
        "\n",
        "For example, if the feature \"marriage\" is missing, then this model's prediction will be the most common value for \"marriage\" in the training set, which happens to be \"Married-civ-spouse\".\n",
        "\n",
        "What would be the test accuracy of this baseline model?\n"
      ]
    },
    {
      "cell_type": "code",
      "execution_count": null,
      "metadata": {
        "id": "p45VHp011prN",
        "jupyter": {
          "outputs_hidden": true
        },
        "colab": {
          "base_uri": "https://localhost:8080/"
        },
        "outputId": "83ca8a7f-6477-4f39-ac88-e3b8cc4e2a6d"
      },
      "outputs": [
        {
          "output_type": "stream",
          "name": "stdout",
          "text": [
            "age: 0.2602739726027397\n",
            "yredu: 0.5333333333333333\n",
            "capgain: 0.0\n",
            "caploss: 0.0\n",
            "workhr: 0.3979591836734694\n",
            "work:  Private\n",
            "marriage:  Married-civ-spouse\n",
            "occupation:  Prof-specialty\n",
            "edu:  HS-grad\n",
            "relationship:  Husband\n",
            "sex:  Male\n",
            "\n",
            "The baseline model accuracy of the \"age\" feature is: 2.85%\n",
            "The baseline model accuracy of the \"yredu\" feature is: 32.45%\n",
            "The baseline model accuracy of the \"capgain\" feature is: 91.57%\n",
            "The baseline model accuracy of the \"caploss\" feature is: 95.24%\n",
            "The baseline model accuracy of the \"workhr\" feature is: 47.28%\n",
            "The baseline model accuracy of the \"work\" feature is: 73.89%\n",
            "The baseline model accuracy of the \"marriage\" feature is: 46.68%\n",
            "The baseline model accuracy of the \"occupation\" feature is: 13.48%\n",
            "The baseline model accuracy of the \"edu\" feature is: 32.45%\n",
            "The baseline model accuracy of the \"relationship\" feature is: 41.36%\n",
            "The baseline model accuracy of the \"sex\" feature is: 67.67%\n",
            "\n",
            "The overall baseline model accuracy across all features is: 49.54%\n"
          ]
        }
      ],
      "source": [
        "most_common = {col: df_not_missing[col].mode().item() for col in df_not_missing.columns}\n",
        "# Print each key-value pair on a new line\n",
        "for key, value in most_common.items():\n",
        "    print(f\"{key}: {value}\")\n",
        "print(\"\")\n",
        "total_accuracy = 0\n",
        "for col in df_not_missing.columns:\n",
        "    baseline_acc = sum(df_not_missing[col] == baseline[col]) / len(df_not_missing)\n",
        "    total_accuracy += baseline_acc\n",
        "\n",
        "    print(f\"The baseline model accuracy of the \\\"{col}\\\" feature is: {baseline_acc * 100:.2f}%\")\n",
        "\n",
        "# Calculate overall baseline accuracy\n",
        "overall_accuracy = total_accuracy / len(df_not_missing.columns) #basically calculating the mean\n",
        "print(f\"\\nThe overall baseline model accuracy across all features is: {overall_accuracy * 100:.2f}%\")"
      ]
    },
    {
      "cell_type": "markdown",
      "metadata": {
        "id": "QlHu0wxh1prP"
      },
      "source": [
        "### Part (c) [1 pt]\n",
        "\n",
        "How does your test accuracy from part (a) compared to your basline test accuracy in part (b)?"
      ]
    },
    {
      "cell_type": "markdown",
      "source": [
        "The overall accuracy of the baseline model was around **49.54%**, whereas the accuracy from the model in part a) was around **61.7%.**"
      ],
      "metadata": {
        "id": "YYXz78RJPe7q"
      }
    },
    {
      "cell_type": "markdown",
      "metadata": {
        "id": "DfQPgu1Q1prS"
      },
      "source": [
        "### Part (d) [1 pt]\n",
        "\n",
        "Look at the first item in your test data.\n",
        "Do you think it is reasonable for a human\n",
        "to be able to guess this person's education level\n",
        "based on their other features? Explain."
      ]
    },
    {
      "cell_type": "code",
      "execution_count": null,
      "metadata": {
        "id": "3qbQ1vvT1prT",
        "jupyter": {
          "outputs_hidden": true
        },
        "colab": {
          "base_uri": "https://localhost:8080/"
        },
        "outputId": "ad9a2e88-02bd-4f97-f050-93d20b8d3b70"
      },
      "outputs": [
        {
          "output_type": "execute_result",
          "data": {
            "text/plain": [
              "{'work': 'Private',\n",
              " 'marriage': 'Divorced',\n",
              " 'occupation': 'Prof-specialty',\n",
              " 'edu': 'Bachelors',\n",
              " 'relationship': 'Not-in-family',\n",
              " 'sex': 'Male'}"
            ]
          },
          "metadata": {},
          "execution_count": 124
        }
      ],
      "source": [
        "get_features(test_set[0])"
      ]
    },
    {
      "cell_type": "markdown",
      "source": [
        "No, it is not possible for a human to be able to guess a person's education level based on other features. For example, a feature like 'Not-in-family', would not provide much insight into what education this individual has achieved."
      ],
      "metadata": {
        "id": "Uuu-_V5iRjkT"
      }
    },
    {
      "cell_type": "markdown",
      "metadata": {
        "id": "p_d5uuAY1prZ"
      },
      "source": [
        "### Part (e) [2 pt]\n",
        "\n",
        "What is your model's prediction of this person's education\n",
        "level, given their other features?\n"
      ]
    },
    {
      "cell_type": "code",
      "execution_count": null,
      "metadata": {
        "id": "kBY5gKXR1pra",
        "jupyter": {
          "outputs_hidden": true
        },
        "colab": {
          "base_uri": "https://localhost:8080/"
        },
        "outputId": "0e319d3c-743e-4da8-f8c0-33b52779e359"
      },
      "outputs": [
        {
          "output_type": "stream",
          "name": "stdout",
          "text": [
            "Model predicted education level: Assoc-acdm\n"
          ]
        }
      ],
      "source": [
        "#convert the test_set into a tensor\n",
        "test_tensor= torch.tensor(test_set[0]).view(1, -1) #reshaping to a 1 row tensor\n",
        "#to achieve the zeroed out \"edu\" feature\n",
        "zero_edu = zero_out_feature(test_tensor, \"edu\")\n",
        "# do the model prediction using the best model after hyperparameter tuning, which was hyp_tuning_2\n",
        "model_prediction = hyp_tuning_2(zero_edu).detach().numpy() #converting to a numpy array\n",
        "predicted_edu = get_feature(model_prediction[0], \"edu\")\n",
        "print(\"Model predicted education level:\", predicted_edu)"
      ]
    },
    {
      "cell_type": "markdown",
      "source": [
        "My model predicts an education of Assoc-acdm, but it does not accurately match with the correct prediction- \"Bachelors\"."
      ],
      "metadata": {
        "id": "laXSueLHaw7N"
      }
    },
    {
      "cell_type": "markdown",
      "metadata": {
        "id": "fdLNA0ce1prd"
      },
      "source": [
        "### Part (f) [2 pt]\n",
        "\n",
        "What is the baseline model's prediction\n",
        "of this person's education level?"
      ]
    },
    {
      "cell_type": "code",
      "execution_count": null,
      "metadata": {
        "id": "TXgoM9qk1prd",
        "jupyter": {
          "outputs_hidden": true
        },
        "colab": {
          "base_uri": "https://localhost:8080/"
        },
        "outputId": "b9b11f8b-cbc2-49b9-c9cc-f7b845e31d2e"
      },
      "outputs": [
        {
          "output_type": "stream",
          "name": "stdout",
          "text": [
            " HS-grad\n"
          ]
        }
      ],
      "source": [
        "def predict_baseline_education_level(baseline, test_data, feature_to_predict):\n",
        "    return baseline[feature_to_predict]\n",
        "\n",
        "#output the baseline model estimate\n",
        "baseline_prediction = predict_baseline_education_level(baseline, test_set[0], \"edu\")\n",
        "print(baseline_prediction)"
      ]
    },
    {
      "cell_type": "markdown",
      "source": [
        "The baseline model predicts the education of a HS grad, and this also does not match with the correct prediction of Bachelors."
      ],
      "metadata": {
        "id": "IX1ZePUIa-Q8"
      }
    }
  ],
  "metadata": {
    "colab": {
      "provenance": []
    },
    "kernelspec": {
      "display_name": "Python 3 (ipykernel)",
      "language": "python",
      "name": "python3"
    },
    "language_info": {
      "codemirror_mode": {
        "name": "ipython",
        "version": 3
      },
      "file_extension": ".py",
      "mimetype": "text/x-python",
      "name": "python",
      "nbconvert_exporter": "python",
      "pygments_lexer": "ipython3",
      "version": "3.9.4"
    }
  },
  "nbformat": 4,
  "nbformat_minor": 0
}