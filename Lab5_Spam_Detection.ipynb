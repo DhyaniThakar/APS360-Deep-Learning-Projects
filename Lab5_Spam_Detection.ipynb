{
  "cells": [
    {
      "cell_type": "markdown",
      "metadata": {
        "id": "_bphECiUa9zw"
      },
      "source": [
        "# Lab 5: Spam Detection\n",
        "\n",
        "In this assignment, we will build a recurrent neural network to classify a SMS text message\n",
        "as \"spam\" or \"not spam\". In the process, you will\n",
        "    \n",
        "1. Clean and process text data for machine learning.\n",
        "2. Understand and implement a character-level recurrent neural network.\n",
        "3. Use torchtext to build recurrent neural network models.\n",
        "4. Understand batching for a recurrent neural network, and use torchtext to implement RNN batching.\n",
        "\n",
        "### What to submit\n",
        "\n",
        "Submit a PDF file containing all your code, outputs, and write-up. You can produce a PDF of your Google Colab file by going to File > Print and then save as PDF. The Colab instructions have more information.\n",
        "\n",
        "Do not submit any other files produced by your code.\n",
        "\n",
        "Include a link to your colab file in your submission."
      ]
    },
    {
      "cell_type": "markdown",
      "metadata": {
        "id": "rWiUqJJTa9z6"
      },
      "source": [
        "## Colab Link\n",
        "\n",
        "Include a link to your Colab file here. If you would like the TA to look at your\n",
        "Colab file in case your solutions are cut off, **please make sure that your Colab\n",
        "file is publicly accessible at the time of submission**."
      ]
    },
    {
      "cell_type": "markdown",
      "metadata": {
        "id": "U2GXRdsMxmD4"
      },
      "source": [
        "Colab Link:https://colab.research.google.com/drive/1JlW6P5PkrIx_HthNfab5mc0Lm2RsK2bK?usp=sharing"
      ]
    },
    {
      "cell_type": "markdown",
      "metadata": {
        "id": "nCJYKbD1xmD4"
      },
      "source": [
        "As we are using the older version of the torchtext, please run the following to downgrade the torchtext version:"
      ]
    },
    {
      "cell_type": "markdown",
      "metadata": {
        "id": "LhUQj_FJxmD5"
      },
      "source": [
        "!pip install -U torch==1.8.0+cu111 torchtext==0.9.0 -f https://download.pytorch.org/whl/torch_stable.html"
      ]
    },
    {
      "cell_type": "markdown",
      "metadata": {
        "id": "nFZsThQvxmD5"
      },
      "source": [
        "If you are interested to use the most recent version if torchtext, you can look at the following document to see how to convert the legacy version to the new version:\n",
        "https://colab.research.google.com/github/pytorch/text/blob/master/examples/legacy_tutorial/migration_tutorial.ipynb"
      ]
    },
    {
      "cell_type": "code",
      "source": [
        "!pip install -U torch==1.13.1+cu116 torchtext==0.6.0 -f https://download.pytorch.org/whl/torch_stable.html\n",
        "#this has been installed according to a piazza post as the line provided befire in the lab was providing errors."
      ],
      "metadata": {
        "colab": {
          "base_uri": "https://localhost:8080/"
        },
        "id": "8zL-k3P1zoKb",
        "outputId": "efe3e8cc-1b5a-46e9-c9bf-c9b7489386bd"
      },
      "execution_count": null,
      "outputs": [
        {
          "output_type": "stream",
          "name": "stdout",
          "text": [
            "Looking in links: https://download.pytorch.org/whl/torch_stable.html\n",
            "Requirement already satisfied: torch==1.13.1+cu116 in /usr/local/lib/python3.10/dist-packages (1.13.1+cu116)\n",
            "Requirement already satisfied: torchtext==0.6.0 in /usr/local/lib/python3.10/dist-packages (0.6.0)\n",
            "Requirement already satisfied: typing-extensions in /usr/local/lib/python3.10/dist-packages (from torch==1.13.1+cu116) (4.12.2)\n",
            "Requirement already satisfied: tqdm in /usr/local/lib/python3.10/dist-packages (from torchtext==0.6.0) (4.66.4)\n",
            "Requirement already satisfied: requests in /usr/local/lib/python3.10/dist-packages (from torchtext==0.6.0) (2.31.0)\n",
            "Requirement already satisfied: numpy in /usr/local/lib/python3.10/dist-packages (from torchtext==0.6.0) (1.25.2)\n",
            "Requirement already satisfied: six in /usr/local/lib/python3.10/dist-packages (from torchtext==0.6.0) (1.16.0)\n",
            "Requirement already satisfied: sentencepiece in /usr/local/lib/python3.10/dist-packages (from torchtext==0.6.0) (0.1.99)\n",
            "Requirement already satisfied: charset-normalizer<4,>=2 in /usr/local/lib/python3.10/dist-packages (from requests->torchtext==0.6.0) (3.3.2)\n",
            "Requirement already satisfied: idna<4,>=2.5 in /usr/local/lib/python3.10/dist-packages (from requests->torchtext==0.6.0) (3.7)\n",
            "Requirement already satisfied: urllib3<3,>=1.21.1 in /usr/local/lib/python3.10/dist-packages (from requests->torchtext==0.6.0) (2.0.7)\n",
            "Requirement already satisfied: certifi>=2017.4.17 in /usr/local/lib/python3.10/dist-packages (from requests->torchtext==0.6.0) (2024.7.4)\n"
          ]
        }
      ]
    },
    {
      "cell_type": "code",
      "execution_count": null,
      "metadata": {
        "id": "HgfNOUaPa9z8",
        "tags": []
      },
      "outputs": [],
      "source": [
        "import torch\n",
        "import torch.nn as nn\n",
        "import torch.nn.functional as F\n",
        "import torch.optim as optim\n",
        "import numpy as np"
      ]
    },
    {
      "cell_type": "markdown",
      "metadata": {
        "id": "M0jLI9LBa90C"
      },
      "source": [
        "## Part 1. Data Cleaning [15 pt]\n",
        "\n",
        "We will be using the \"SMS Spam Collection Data Set\" available at http://archive.ics.uci.edu/ml/datasets/SMS+Spam+Collection\n",
        "\n",
        "There is a link to download the \"Data Folder\" at the very top of the webpage. Download the zip file, unzip it, and upload the file `SMSSpamCollection` to Colab.    "
      ]
    },
    {
      "cell_type": "markdown",
      "metadata": {
        "id": "sSuF7C_Ga90E"
      },
      "source": [
        "### Part (a) [2 pt]\n",
        "\n",
        "Open up the file in Python, and print out one example of a spam SMS, and one example of a non-spam SMS.\n",
        "\n",
        "What is the label value for a spam message, and what is the label value for a non-spam message?"
      ]
    },
    {
      "cell_type": "code",
      "source": [
        "# Open the file and read the lines\n",
        "with open('/content/SMSSpamCollection', 'r') as file:\n",
        "    # Print the first 5 lines to see how the labels and messages look like\n",
        "    for i in range(5):\n",
        "        line = file.readline()\n",
        "        print(line)"
      ],
      "metadata": {
        "colab": {
          "base_uri": "https://localhost:8080/"
        },
        "id": "d3w33fOz7v7f",
        "outputId": "f2be9a27-1077-4dc7-94ea-fa4857303680"
      },
      "execution_count": null,
      "outputs": [
        {
          "output_type": "stream",
          "name": "stdout",
          "text": [
            "ham\tGo until jurong point, crazy.. Available only in bugis n great world la e buffet... Cine there got amore wat...\n",
            "\n",
            "ham\tOk lar... Joking wif u oni...\n",
            "\n",
            "spam\tFree entry in 2 a wkly comp to win FA Cup final tkts 21st May 2005. Text FA to 87121 to receive entry question(std txt rate)T&C's apply 08452810075over18's\n",
            "\n",
            "ham\tU dun say so early hor... U c already then say...\n",
            "\n",
            "ham\tNah I don't think he goes to usf, he lives around here though\n",
            "\n"
          ]
        }
      ]
    },
    {
      "cell_type": "code",
      "execution_count": null,
      "metadata": {
        "colab": {
          "base_uri": "https://localhost:8080/"
        },
        "id": "I_IfXHeTa90F",
        "jupyter": {
          "outputs_hidden": true
        },
        "outputId": "fc70b0fc-6db6-411f-c31c-f7a0332681ae"
      },
      "outputs": [
        {
          "output_type": "stream",
          "name": "stdout",
          "text": [
            "Spam example:\n",
            "Label: spam\n",
            "Message: Free entry in 2 a wkly comp to win FA Cup final tkts 21st May 2005. Text FA to 87121 to receive entry question(std txt rate)T&C's apply 08452810075over18's\n",
            "\n",
            "Non-spam example:\n",
            "Label: ham\n",
            "Message: Go until jurong point, crazy.. Available only in bugis n great world la e buffet... Cine there got amore wat...\n",
            "\n",
            "Unique labels: {'spam', 'ham'}\n"
          ]
        }
      ],
      "source": [
        "#after printing out the sample statements above, I can see that the labels for\n",
        "spam_example = None\n",
        "non_spam_example = None\n",
        "for line in open('SMSSpamCollection'):\n",
        "  label, message = line.split('\\t', 1)\n",
        "  if label == 'spam' and spam_example is None:\n",
        "    spam_example = message.strip()\n",
        "  elif label == 'ham' and non_spam_example is None:\n",
        "    non_spam_example = message.strip()\n",
        "  # Break if we have found both examples\n",
        "  if spam_example and non_spam_example:\n",
        "    break\n",
        "\n",
        "# Print the examples\n",
        "print(f\"Spam example:\\nLabel: spam\\nMessage: {spam_example}\\n\")\n",
        "print(f\"Non-spam example:\\nLabel: ham\\nMessage: {non_spam_example}\\n\")\n",
        "\n",
        "# Print unique labels in the dataset\n",
        "unique_labels = {'spam', 'ham'}\n",
        "print(f\"Unique labels: {unique_labels}\")\n"
      ]
    },
    {
      "cell_type": "markdown",
      "metadata": {
        "id": "AukA6vMVa90d"
      },
      "source": [
        "### Part (b) [1 pt]\n",
        "\n",
        "How many spam messages are there in the data set?\n",
        "How many non-spam messages are there in the data set?\n"
      ]
    },
    {
      "cell_type": "code",
      "execution_count": null,
      "metadata": {
        "colab": {
          "base_uri": "https://localhost:8080/"
        },
        "id": "LgsqyemVa90e",
        "jupyter": {
          "outputs_hidden": true
        },
        "outputId": "33939615-1e55-49cb-9e05-c0a322c604ad"
      },
      "outputs": [
        {
          "output_type": "stream",
          "name": "stdout",
          "text": [
            "Number of spam messages: 747\n",
            "Number of non-spam messages: 4827\n"
          ]
        }
      ],
      "source": [
        "spam_count=0\n",
        "non_spam_count=0\n",
        "for line in open('SMSSpamCollection'):\n",
        "  label, message = line.split('\\t', 1)\n",
        "  if label =='spam':\n",
        "    spam_count +=1\n",
        "  if label ==\"ham\":\n",
        "    non_spam_count +=1\n",
        "\n",
        "# Print the counts\n",
        "print(f\"Number of spam messages: {spam_count}\")\n",
        "print(f\"Number of non-spam messages: {non_spam_count}\")"
      ]
    },
    {
      "cell_type": "markdown",
      "metadata": {
        "id": "d1WXxVt6a90h"
      },
      "source": [
        "### Part (c) [4 pt]\n",
        "\n",
        "We will be using the package `torchtext` to load, process, and batch the data.\n",
        "A tutorial to torchtext is available below. This tutorial uses the same\n",
        "Sentiment140 data set that we explored during lecture.\n",
        "\n",
        "https://medium.com/@sonicboom8/sentiment-analysis-torchtext-55fb57b1fab8\n",
        "\n",
        "Unlike what we did during lecture, we will be building a **character level RNN**.\n",
        "That is, we will treat each **character** as a token in our sequence,\n",
        "rather than each **word**.\n",
        "\n",
        "Identify two advantage and two disadvantage of modelling SMS text\n",
        "messages as a sequence of characters rather than a sequence of words."
      ]
    },
    {
      "cell_type": "markdown",
      "source": [
        "These points have been developed after conducting further research into what character level models are and how they function.\n",
        "\n",
        "Let's take a look at the advantages of modelling SMS text messages as a character level models:\n",
        "1. Character level models are proven to be better at handling OOV (out of vocabulary) words, as they don't rely on a pre-defined set of words/vocabulary. This basically means that newly introduced words will also be taken in and processed as characters. This is particularly helpful when dealing with text messages, as they contain a lot of informal language. Text messages often involve the use of slang words, such as \"wanna\", \"gonna\", \"sorta\", etc. Such words do not exist in the vocabulary, but the model can still break them down as characters.\n",
        "\n",
        "2. Character level models are better at capturing typos and spelling mistakes, as each character is processed seperately.\n",
        "\n",
        "Now, the disadvanatges are discussed:\n",
        "1. Character level models would need to process much longer sequences. Invariablythis can increase computational complexity and memory power and storage. For example in \"Deep learning is fun!\", a word-level model would process 4 tokens whereas the character level model would process 18 tokens.\n",
        "2. It is possible that a character-level model might struggle to capture high-level contexts between the words in sentence, as the focus is only on individual characters."
      ],
      "metadata": {
        "id": "_uI--n3j_Llo"
      }
    },
    {
      "cell_type": "markdown",
      "metadata": {
        "id": "ie_D0bv9a90k"
      },
      "source": [
        "### Part (d) [1 pt]\n",
        "\n",
        "We will be loading our data set using `torchtext.data.TabularDataset`. The\n",
        "constructor will read directly from the `SMSSpamCollection` file.\n",
        "\n",
        "For the data file to be read successfuly, we\n",
        "need to specify the **fields** (columns) in the file.\n",
        "In our case, the dataset has two fields:\n",
        "\n",
        "- a text field containing the sms messages,\n",
        "- a label field which will be converted into a binary label.\n",
        "\n",
        "Split the dataset into `train`, `valid`, and `test`. Use a 60-20-20 split.\n",
        "You may find this torchtext API page helpful:\n",
        "https://torchtext.readthedocs.io/en/latest/data.html#dataset\n",
        "\n",
        "Hint: There is a `Dataset` method that can perform the random split for you."
      ]
    },
    {
      "cell_type": "code",
      "source": [
        "import torchtext\n",
        "# I read the torchtext documentation for the following\n",
        "text_field = torchtext.data.Field(sequential=True,\n",
        "                                  tokenize=lambda x: x,\n",
        "                                  include_lengths=True,\n",
        "                                  batch_first=True,\n",
        "                                  use_vocab=True)\n",
        "label_field = torchtext.data.Field(sequential=False,\n",
        "                                   use_vocab=False,\n",
        "                                   is_target=True,\n",
        "                                   batch_first=True,\n",
        "                                   preprocessing=lambda x: int(x == 'spam'))\n",
        "\n",
        "fields = [('label', label_field), ('sms', text_field)]\n",
        "dataset = torchtext.data.TabularDataset(\"SMSSpamCollection\",\n",
        "                                        \"tsv\",\n",
        "                                        fields)\n",
        "\n",
        "train, valid, test = dataset.split(split_ratio=[0.6,0.2,0.2])"
      ],
      "metadata": {
        "id": "tcOAh3DxEutz"
      },
      "execution_count": null,
      "outputs": []
    },
    {
      "cell_type": "markdown",
      "metadata": {
        "id": "v6nP0Ks_a90o"
      },
      "source": [
        "### Part (e) [2 pt]\n",
        "\n",
        "You saw in part (b) that there are many more non-spam messages than spam messages.\n",
        "This **imbalance** in our training data will be problematic for training.\n",
        "We can fix this disparity by duplicating spam messages in the training set,\n",
        "so that the training set is roughly **balanced**.\n",
        "\n",
        "Explain why having a balanced training set is helpful for training our neural network.\n",
        "\n",
        "Note: if you are not sure, try removing the below code and train your mode."
      ]
    },
    {
      "cell_type": "code",
      "execution_count": null,
      "metadata": {
        "collapsed": true,
        "id": "FWvx9_rka90p",
        "jupyter": {
          "outputs_hidden": true
        }
      },
      "outputs": [],
      "source": [
        "# save the original training examples\n",
        "old_train_examples = train.examples\n",
        "# get all the spam messages in `train`\n",
        "train_spam = []\n",
        "for item in train.examples:\n",
        "    if item.label == 1:\n",
        "        train_spam.append(item)\n",
        "# duplicate each spam message 6 more times\n",
        "train.examples = old_train_examples + train_spam * 6"
      ]
    },
    {
      "cell_type": "markdown",
      "source": [
        "***Answer: *** If the model contains significantly more non-spam messages than spam messages, the model will become bias towards predicting the bias class. By balancing the dataset, the model is exposed to an equal representation of both the classes, to ensure that the model learns to accurately recognize both the classes (non-spam and spam messages).\n",
        "\n",
        "A balanced dataset will lead to more improved model performance and generalization."
      ],
      "metadata": {
        "id": "eoWDkM1sW_r0"
      }
    },
    {
      "cell_type": "markdown",
      "metadata": {
        "id": "j7eUmBEva90r"
      },
      "source": [
        "### Part (f) [1 pt]\n",
        "\n",
        "We need to build the vocabulary on the training data by running the below code.\n",
        "This finds all the possible character tokens in the training set.\n",
        "\n",
        "Explain what the variables `text_field.vocab.stoi` and `text_field.vocab.itos` represent."
      ]
    },
    {
      "cell_type": "code",
      "execution_count": null,
      "metadata": {
        "colab": {
          "base_uri": "https://localhost:8080/"
        },
        "id": "8CQM8flKa90s",
        "jupyter": {
          "outputs_hidden": true
        },
        "outputId": "ab4c6fb4-f3b8-42ab-fa08-8e80f7092037"
      },
      "outputs": [
        {
          "output_type": "execute_result",
          "data": {
            "text/plain": [
              "['<unk>',\n",
              " '<pad>',\n",
              " ' ',\n",
              " 'e',\n",
              " 'o',\n",
              " 't',\n",
              " 'a',\n",
              " 'n',\n",
              " 'r',\n",
              " 'i',\n",
              " 's',\n",
              " 'l',\n",
              " 'u',\n",
              " 'h',\n",
              " '0',\n",
              " 'd',\n",
              " '.',\n",
              " 'c',\n",
              " 'm',\n",
              " 'y',\n",
              " 'w',\n",
              " 'p',\n",
              " 'g',\n",
              " '1',\n",
              " 'f',\n",
              " 'b',\n",
              " '2',\n",
              " 'T',\n",
              " '8',\n",
              " 'k',\n",
              " 'E',\n",
              " 'v',\n",
              " '5',\n",
              " 'S',\n",
              " 'C',\n",
              " 'I',\n",
              " 'O',\n",
              " '4',\n",
              " 'N',\n",
              " 'A',\n",
              " '7',\n",
              " '3',\n",
              " 'x',\n",
              " 'R',\n",
              " '6',\n",
              " '!',\n",
              " ',',\n",
              " 'P',\n",
              " '9',\n",
              " 'U',\n",
              " 'M',\n",
              " 'W',\n",
              " 'L',\n",
              " 'H',\n",
              " 'D',\n",
              " 'B',\n",
              " 'G',\n",
              " 'F',\n",
              " 'Y',\n",
              " '/',\n",
              " '?',\n",
              " \"'\",\n",
              " '£',\n",
              " '-',\n",
              " '&',\n",
              " 'X',\n",
              " ':',\n",
              " 'z',\n",
              " 'V',\n",
              " 'K',\n",
              " 'j',\n",
              " '*',\n",
              " ')',\n",
              " ';',\n",
              " 'J',\n",
              " '+',\n",
              " '(',\n",
              " '\"',\n",
              " '#',\n",
              " 'Q',\n",
              " 'q',\n",
              " '>',\n",
              " '@',\n",
              " '=',\n",
              " 'ü',\n",
              " 'Z',\n",
              " 'Ü',\n",
              " '|',\n",
              " '$',\n",
              " '<',\n",
              " '_',\n",
              " '\\x92',\n",
              " '‘',\n",
              " '¡',\n",
              " '“',\n",
              " '%',\n",
              " '…',\n",
              " '[',\n",
              " ']',\n",
              " '\\x93',\n",
              " 'ú',\n",
              " '\\x94',\n",
              " '\\\\',\n",
              " '–',\n",
              " '~',\n",
              " '\\x96',\n",
              " '’',\n",
              " '\\x91',\n",
              " 'è',\n",
              " '—',\n",
              " '┾',\n",
              " '〨',\n",
              " '鈥']"
            ]
          },
          "metadata": {},
          "execution_count": 41
        }
      ],
      "source": [
        "text_field.build_vocab(train)\n",
        "text_field.vocab.stoi\n",
        "text_field.vocab.itos"
      ]
    },
    {
      "cell_type": "markdown",
      "source": [
        "**Answer**: After looking it up online, it was found that stroi stands for string to index mapping. The variable text_field.vocab.stoi, represents the mapping from text tokens to their relevant integer indices. It is also important to note that each token has a unique index. Note: it is stored as a dictionary.\n",
        "\n",
        "itos stands for index to string, and the variable text_field.vocab.itos represents the integer index that is assigned to a text token.\n",
        "\n",
        "\n",
        "\n"
      ],
      "metadata": {
        "id": "pLpN6WHok69z"
      }
    },
    {
      "cell_type": "markdown",
      "metadata": {
        "id": "TC8WVE8Ua90u"
      },
      "source": [
        "### Part (g) [2 pt]\n",
        "\n",
        "The tokens `<unk>` and `<pad>` were not in our SMS text messages.\n",
        "What do these two values represent?"
      ]
    },
    {
      "cell_type": "markdown",
      "source": [
        "1. unk stands for unknown token. This basically represents any possible word or character that was not \"seen\" or processed. If the model encounters an unfamiliar word or token, it will label it as unk.\n",
        "\n",
        "2. pad stands for a padding token. pad ensures that padded tokens are added to shorter sequences to ensure uniform and equal sequence length across all batches."
      ],
      "metadata": {
        "id": "1-aG8XxxpHXv"
      }
    },
    {
      "cell_type": "markdown",
      "metadata": {
        "id": "Ff5CNk7Qa90y"
      },
      "source": [
        "### Part (h) [2 pt]\n",
        "\n",
        "Since text sequences are of variable length, `torchtext` provides a `BucketIterator` data loader,\n",
        "which batches similar length sequences together. The iterator also provides functionalities to\n",
        "pad sequences automatically.\n",
        "\n",
        "Take a look at 10 batches in `train_iter`. What is the maximum length of the\n",
        "input sequence in each batch? How many `<pad>` tokens are used in each of the 10\n",
        "batches?"
      ]
    },
    {
      "cell_type": "code",
      "execution_count": null,
      "metadata": {
        "collapsed": true,
        "id": "V8N8qLWOa90y",
        "jupyter": {
          "outputs_hidden": true
        }
      },
      "outputs": [],
      "source": [
        "# got the following syntax for BucketIterator from reading the torchtext documentation\n",
        "train_iter = torchtext.data.BucketIterator(train,\n",
        "                                           batch_size=32,\n",
        "                                           sort_key=lambda x: len(x.sms),\n",
        "                                           sort_within_batch=True,\n",
        "                                           repeat=False)\n",
        "\n",
        "valid_iter = torchtext.data.BucketIterator(valid,\n",
        "                                           batch_size=32,\n",
        "                                           sort_key=lambda x: len(x.sms), #\n",
        "                                           sort_within_batch=True,\n",
        "                                           repeat=False)"
      ]
    },
    {
      "cell_type": "code",
      "execution_count": null,
      "metadata": {
        "colab": {
          "base_uri": "https://localhost:8080/"
        },
        "id": "Qwz-rOaha902",
        "jupyter": {
          "outputs_hidden": true
        },
        "outputId": "2c425874-9a6b-44d6-8e57-2421043339c0"
      },
      "outputs": [
        {
          "output_type": "stream",
          "name": "stdout",
          "text": [
            "Batch 1:\n",
            "Max input length in this batch: 122\n",
            "Number of <pad> tokens in this batch: 25\n",
            "\n",
            "Batch 2:\n",
            "Max input length in this batch: 159\n",
            "Number of <pad> tokens in this batch: 0\n",
            "\n",
            "Batch 3:\n",
            "Max input length in this batch: 81\n",
            "Number of <pad> tokens in this batch: 54\n",
            "\n",
            "Batch 4:\n",
            "Max input length in this batch: 104\n",
            "Number of <pad> tokens in this batch: 70\n",
            "\n",
            "Batch 5:\n",
            "Max input length in this batch: 154\n",
            "Number of <pad> tokens in this batch: 0\n",
            "\n",
            "Batch 6:\n",
            "Max input length in this batch: 163\n",
            "Number of <pad> tokens in this batch: 28\n",
            "\n",
            "Batch 7:\n",
            "Max input length in this batch: 150\n",
            "Number of <pad> tokens in this batch: 13\n",
            "\n",
            "Batch 8:\n",
            "Max input length in this batch: 49\n",
            "Number of <pad> tokens in this batch: 19\n",
            "\n",
            "Batch 9:\n",
            "Max input length in this batch: 146\n",
            "Number of <pad> tokens in this batch: 4\n",
            "\n",
            "Batch 10:\n",
            "Max input length in this batch: 38\n",
            "Number of <pad> tokens in this batch: 7\n",
            "\n"
          ]
        }
      ],
      "source": [
        "# function to count padding tokens and find maximum length in a batch\n",
        "def compute_padding_and_max_length(padded_texts, pad_idx):\n",
        "    # padded_texts is a tensor of shape [batch_size, max_seq_length]\n",
        "    max_length = padded_texts.size(1)  # Get the length of the longest sequence in the batch\n",
        "    num_pads = (padded_texts == pad_idx).sum().item()  # Count the number of pad tokens\n",
        "    return max_length, num_pads\n",
        "\n",
        "# Define the index for <pad> token\n",
        "pad_idx = text_field.vocab.stoi['<pad>']\n",
        "batch_counter = 0\n",
        "# Iterate through DataLoader\n",
        "for batch in train_iter:\n",
        "    padded_texts = batch.sms[0]  # Get the padded texts tensor\n",
        "\n",
        "    # this is computing the max length for each batch\n",
        "    max_length, num_pads = compute_padding_and_max_length(padded_texts, pad_idx)\n",
        "    print(f\"Batch {batch_counter + 1}:\")\n",
        "    print(f\"Max input length in this batch: {max_length}\")\n",
        "    print(f\"Number of <pad> tokens in this batch: {num_pads}\")\n",
        "    print()\n",
        "\n",
        "    batch_counter += 1\n",
        "\n",
        "    # just do till 10 loops\n",
        "    if batch_counter >= 10:\n",
        "        break"
      ]
    },
    {
      "cell_type": "markdown",
      "metadata": {
        "id": "y7HnqP6_a904"
      },
      "source": [
        "## Part 2. Model Building [8 pt]\n",
        "\n",
        "Build a recurrent neural network model, using an architecture of your choosing.\n",
        "Use the one-hot embedding of each character as input to your recurrent network.\n",
        "Use one or more fully-connected layers to make the prediction based on your\n",
        "recurrent network output.\n",
        "\n",
        "Instead of using the RNN output value for the final token, another often used\n",
        "strategy is to max-pool over the entire output array. That is, instead of calling\n",
        "something like:\n",
        "\n",
        "```\n",
        "out, _ = self.rnn(x)\n",
        "self.fc(out[:, -1, :])\n",
        "```\n",
        "\n",
        "where `self.rnn` is an `nn.RNN`, `nn.GRU`, or `nn.LSTM` module, and `self.fc` is a\n",
        "fully-connected\n",
        "layer, we use:\n",
        "\n",
        "```\n",
        "out, _ = self.rnn(x)\n",
        "self.fc(torch.max(out, dim=1)[0])\n",
        "```\n",
        "\n",
        "This works reasonably in practice. An even better alternative is to concatenate the\n",
        "max-pooling and average-pooling of the RNN outputs:\n",
        "\n",
        "```\n",
        "out, _ = self.rnn(x)\n",
        "out = torch.cat([torch.max(out, dim=1)[0],\n",
        "                 torch.mean(out, dim=1)], dim=1)\n",
        "self.fc(out)\n",
        "```\n",
        "\n",
        "We encourage you to try out all these options. The way you pool the RNN outputs\n",
        "is one of the \"hyperparameters\" that you can choose to tune later on."
      ]
    },
    {
      "cell_type": "code",
      "execution_count": null,
      "metadata": {
        "colab": {
          "base_uri": "https://localhost:8080/"
        },
        "id": "jHl1p_Wwa905",
        "jupyter": {
          "outputs_hidden": true
        },
        "outputId": "807b8b75-f214-47d9-e461-b3ff0a5e191d"
      },
      "outputs": [
        {
          "output_type": "stream",
          "name": "stdout",
          "text": [
            "tensor([1., 0., 0., 0., 0., 0., 0., 0., 0., 0.])\n",
            "tensor([0., 1., 0., 0., 0., 0., 0., 0., 0., 0.])\n",
            "tensor([[[0., 1., 0., 0., 0., 0., 0., 0., 0., 0.],\n",
            "         [0., 0., 1., 0., 0., 0., 0., 0., 0., 0.]],\n",
            "\n",
            "        [[0., 0., 0., 1., 0., 0., 0., 0., 0., 0.],\n",
            "         [0., 0., 0., 0., 1., 0., 0., 0., 0., 0.]]])\n"
          ]
        }
      ],
      "source": [
        "# You might find this code helpful for obtaining\n",
        "# PyTorch one-hot vectors.\n",
        "\n",
        "ident = torch.eye(10)\n",
        "print(ident[0]) # one-hot vector\n",
        "print(ident[1]) # one-hot vector\n",
        "x = torch.tensor([[1, 2], [3, 4]])\n",
        "print(ident[x]) # one-hot vectors"
      ]
    },
    {
      "cell_type": "code",
      "execution_count": null,
      "metadata": {
        "collapsed": true,
        "id": "4LTQ7zFka909",
        "jupyter": {
          "outputs_hidden": true
        }
      },
      "outputs": [],
      "source": [
        "class RNN(nn.Module):\n",
        "  #the model is taken from lecture 7\n",
        "  def __init__(self, vocab_size, hidden_size, n_layers=1):\n",
        "        super(RNN, self).__init__()\n",
        "        self.name = \"rnn\"\n",
        "        self.emb = torch.eye(len(text_field.vocab.itos)) #each row will be represented as a one-hot encoded vector\n",
        "        self.hidden_size = hidden_size\n",
        "        self.rnn = nn.RNN(len(text_field.vocab.itos), hidden_size, batch_first=True)#input size is the length of the vocabulary\n",
        "        self.fc = nn.Linear(hidden_size, 2) # 2 is the num_classes, spam and no_spam. fully connected layer\n",
        "  def forward(self, x):\n",
        "        x = self.emb[x]\n",
        "        h0 = torch.zeros(1, x.size(0), self.hidden_size) #initialize hidden state to 0\n",
        "        out, _ = self.rnn(x, h0)\n",
        "        out = self.fc(out[:, -1, :])\n",
        "        return out"
      ]
    },
    {
      "cell_type": "markdown",
      "metadata": {
        "id": "vKIYPl_Ba90_"
      },
      "source": [
        "## Part 3. Training [16 pt]\n",
        "\n",
        "### Part (a) [4 pt]\n",
        "\n",
        "Complete the `get_accuracy` function, which will compute the\n",
        "accuracy (rate) of your model across a dataset (e.g. validation set).\n",
        "You may modify `torchtext.data.BucketIterator` to make your computation\n",
        "faster."
      ]
    },
    {
      "cell_type": "code",
      "execution_count": null,
      "metadata": {
        "collapsed": true,
        "id": "pvNfhGD6a91A",
        "jupyter": {
          "outputs_hidden": true
        }
      },
      "outputs": [],
      "source": [
        "def get_accuracy(model, data):\n",
        "    \"\"\" Compute the accuracy of the `model` across a dataset `data`\n",
        "\n",
        "    Example usage:\n",
        "\n",
        "    >>> model = MyRNN() # to be defined\n",
        "    >>> get_accuracy(model, valid) # the variable `valid` is from above\n",
        "    \"\"\"\n",
        "    model.eval()  # Set the model to evaluation mode\n",
        "    correct, total = 0, 0\n",
        "    for sms, labels in data:\n",
        "        output = model(sms[0])\n",
        "        pred = output.max(1, keepdim=True)[1] #keep dimensions\n",
        "        correct += pred.eq(labels.view_as(pred)).sum().item()\n",
        "        total += labels.shape[0]\n",
        "    return correct / total"
      ]
    },
    {
      "cell_type": "markdown",
      "metadata": {
        "id": "TlxlcAC1a91C"
      },
      "source": [
        "### Part (b) [4 pt]\n",
        "\n",
        "Train your model. Plot the training curve of your final model.\n",
        "Your training curve should have the training/validation loss and\n",
        "accuracy plotted periodically.\n",
        "\n",
        "Note: Not all of your batches will have the same batch size.\n",
        "In particular, if your training set does not divide evenly by\n",
        "your batch size, there will be a batch that is smaller than\n",
        "the rest."
      ]
    },
    {
      "cell_type": "code",
      "execution_count": null,
      "metadata": {
        "collapsed": true,
        "id": "CVtf7CJCa91D",
        "jupyter": {
          "outputs_hidden": true
        }
      },
      "outputs": [],
      "source": [
        "import matplotlib.pyplot as plt\n",
        "\n",
        "def train_rnn_network(model, train, valid, num_epochs=5, learning_rate=1e-4):\n",
        "    optimizer = torch.optim.Adam(model.parameters(), lr=learning_rate)\n",
        "    criterion = nn.CrossEntropyLoss()\n",
        "\n",
        "    train_losses, valid_losses = [], []\n",
        "    train_accs, valid_accs = [], []\n",
        "    epochs = []\n",
        "\n",
        "    for epoch in range(num_epochs):\n",
        "        model.train()  # Set model to training mode\n",
        "        avg_train_loss = 0\n",
        "\n",
        "        # Training loop\n",
        "        for sms, labels in train:\n",
        "            optimizer.zero_grad()\n",
        "            pred = model(sms[0])\n",
        "            loss = criterion(pred, labels)\n",
        "            loss.backward()\n",
        "            optimizer.step()\n",
        "            avg_train_loss += loss.item()\n",
        "\n",
        "        avg_train_loss /= len(train)\n",
        "\n",
        "        # Compute training accuracy\n",
        "        model.eval()  # Set model to evaluation mode\n",
        "        train_accuracy = get_accuracy(model, train)\n",
        "        valid_accuracy = get_accuracy(model, valid)\n",
        "\n",
        "        # Compute validation loss\n",
        "        valid_loss = 0\n",
        "        with torch.no_grad():\n",
        "            for sms, labels in valid:\n",
        "                pred = model(sms[0])\n",
        "                loss = criterion(pred, labels)\n",
        "                valid_loss += loss.item()\n",
        "\n",
        "        valid_loss /= len(valid)\n",
        "\n",
        "        # Store metrics\n",
        "        train_losses.append(avg_train_loss)\n",
        "        valid_losses.append(valid_loss)\n",
        "        train_accs.append(train_accuracy)\n",
        "        valid_accs.append(valid_accuracy)\n",
        "        epochs.append(epoch + 1)\n",
        "\n",
        "        print(f\"Epoch {epoch+1}: Train Loss {avg_train_loss:.4f}, Val Loss {valid_loss:.4f}, Train Acc {train_accuracy:.4f}, Val Acc {valid_accuracy:.4f}\")\n",
        "\n",
        "    # Plotting\n",
        "    plt.figure(figsize=(10, 4))\n",
        "\n",
        "    # Plot Loss\n",
        "    plt.subplot(1, 2, 1)\n",
        "    plt.plot(epochs, train_losses, label=\"Training Loss\")\n",
        "    plt.plot(epochs, valid_losses, label=\"Validation Loss\")\n",
        "    plt.xlabel(\"Epoch\")\n",
        "    plt.ylabel(\"Loss\")\n",
        "    plt.title(\"Loss Curve\")\n",
        "    plt.legend()\n",
        "\n",
        "    # Plot Accuracy\n",
        "    plt.subplot(1, 2, 2)\n",
        "    plt.plot(epochs, train_accs, label=\"Training Accuracy\")\n",
        "    plt.plot(epochs, valid_accs, label=\"Validation Accuracy\")\n",
        "    plt.xlabel(\"Epoch\")\n",
        "    plt.ylabel(\"Accuracy\")\n",
        "    plt.title(\"Accuracy Curve\")\n",
        "    plt.legend()\n",
        "\n",
        "    plt.tight_layout()\n",
        "    plt.show()"
      ]
    },
    {
      "cell_type": "code",
      "source": [
        "RNN_1 = RNN(len(text_field.vocab.itos), len(text_field.vocab.itos), n_layers=1)\n",
        "train_rnn_network(RNN_1, train_iter, valid_iter, num_epochs=20, learning_rate=1e-4)"
      ],
      "metadata": {
        "colab": {
          "base_uri": "https://localhost:8080/",
          "height": 754
        },
        "id": "zqy5oTEsCcAX",
        "outputId": "58c362ee-e76a-4584-e62f-46ada7de284e"
      },
      "execution_count": null,
      "outputs": [
        {
          "output_type": "stream",
          "name": "stdout",
          "text": [
            "Epoch 1: Train Loss 0.6830, Val Loss 0.6986, Train Acc 0.6621, Val Acc 0.5067\n",
            "Epoch 2: Train Loss 0.5294, Val Loss 0.2957, Train Acc 0.9051, Val Acc 0.9372\n",
            "Epoch 3: Train Loss 0.2991, Val Loss 0.2137, Train Acc 0.9106, Val Acc 0.9453\n",
            "Epoch 4: Train Loss 0.2974, Val Loss 0.2472, Train Acc 0.9340, Val Acc 0.9318\n",
            "Epoch 5: Train Loss 0.2313, Val Loss 0.2855, Train Acc 0.9426, Val Acc 0.9211\n",
            "Epoch 6: Train Loss 0.2575, Val Loss 0.2120, Train Acc 0.9266, Val Acc 0.9471\n",
            "Epoch 7: Train Loss 0.2191, Val Loss 0.2169, Train Acc 0.9459, Val Acc 0.9462\n",
            "Epoch 8: Train Loss 0.9190, Val Loss 0.6806, Train Acc 0.7010, Val Acc 0.5803\n",
            "Epoch 9: Train Loss 0.5531, Val Loss 0.4003, Train Acc 0.8984, Val Acc 0.9166\n",
            "Epoch 10: Train Loss 0.3007, Val Loss 0.2638, Train Acc 0.9447, Val Acc 0.9175\n",
            "Epoch 11: Train Loss 0.2174, Val Loss 0.1776, Train Acc 0.9206, Val Acc 0.9516\n",
            "Epoch 12: Train Loss 0.2272, Val Loss 0.2201, Train Acc 0.9378, Val Acc 0.9220\n",
            "Epoch 13: Train Loss 0.2079, Val Loss 0.2358, Train Acc 0.9479, Val Acc 0.9184\n",
            "Epoch 14: Train Loss 0.1922, Val Loss 0.1791, Train Acc 0.9548, Val Acc 0.9578\n",
            "Epoch 15: Train Loss 0.3053, Val Loss 0.1870, Train Acc 0.9518, Val Acc 0.9507\n",
            "Epoch 16: Train Loss 0.1848, Val Loss 0.1912, Train Acc 0.9541, Val Acc 0.9462\n",
            "Epoch 17: Train Loss 0.1830, Val Loss 0.1849, Train Acc 0.9564, Val Acc 0.9534\n",
            "Epoch 18: Train Loss 0.2211, Val Loss 0.1909, Train Acc 0.9485, Val Acc 0.9444\n",
            "Epoch 19: Train Loss 0.2719, Val Loss 0.1976, Train Acc 0.9574, Val Acc 0.9480\n",
            "Epoch 20: Train Loss 0.1898, Val Loss 0.1769, Train Acc 0.9558, Val Acc 0.9534\n"
          ]
        },
        {
          "output_type": "display_data",
          "data": {
            "text/plain": [
              "<Figure size 1000x400 with 2 Axes>"
            ],
            "image/png": "[encoded data removed]"
          },
          "metadata": {}
        }
      ]
    },
    {
      "cell_type": "markdown",
      "metadata": {
        "id": "fE3eRkDAa91F"
      },
      "source": [
        "### Part (c) [4 pt]\n",
        "\n",
        "Choose at least 4 hyperparameters to tune. Explain how you tuned the hyperparameters.\n",
        "You don't need to include your training curve for every model you trained.\n",
        "Instead, explain what hyperparemters you tuned, what the best validation accuracy was,\n",
        "and the reasoning behind the hyperparameter decisions you made.\n",
        "\n",
        "For this assignment, you should tune more than just your learning rate and epoch.\n",
        "Choose at least 2 hyperparameters that are unrelated to the optimizer."
      ]
    },
    {
      "cell_type": "code",
      "execution_count": null,
      "metadata": {
        "id": "A2GEWfDca91G",
        "jupyter": {
          "outputs_hidden": true
        }
      },
      "outputs": [],
      "source": [
        "# First hyperparameter tuning: changed num_epochs from 20 to 30; changed learning rate\n",
        "# from 1e-4 to 1e-5, to see if a slower learning rate allows for better accuracy\n",
        "#RNN_2= RNN(len(text_field.vocab.itos), len(text_field.vocab.itos), n_layers=1)\n",
        "#train_rnn_network(RNN_2, train_iter, valid_iter, num_epochs=30, learning_rate=1e-5)\n",
        "#results: validation accuracy= 91.25%, validation loss= 0.1804. The training and validation loss curve seems to\n",
        "# smooth and the there is a sudden spike in the validation accracy after the 10th epoch.\n",
        "\n",
        "#Second hyperparameter tuning: kept num_epochs to 30 and learning rate as 1e-5, as it led to\n",
        "#better accuracies. In this tuning, I will be changing the hidden_size value, but still keeping the num_layers as 1.\n",
        "#RNN_3= RNN(len(text_field.vocab.itos), hidden_size=50, n_layers=1)\n",
        "#train_rnn_network(RNN_3, train_iter, valid_iter, num_epochs=30, learning_rate=1e-5)\n",
        "#results: validation accuracy= 89.78%. This change in hidden_size led to a a decrease in the\n",
        "#validation accuracy. Large hidden sizes introduces more parameters, leading to overfitting and\n",
        "#poor generalization in the model. the training and validation losses happened to follow a smooth curve.\n",
        "\n",
        "#Third hyperparameter tuning: I will be reducing the number of hidden layers to see if that impacts the validation\n",
        "#accuracy. This time, the number of layers has been icnreased from 1 to 3 to observe a difference.\n",
        "#results: Validation Accuracy=  85.208%\n",
        "#The results were quite surprising as the validation accuracy started as 16.95% and then started to increase after the 15t epoch.\n",
        "#It is also important to note that the val errors were also considerably higher when compared to the other models.\n",
        "#RNN_4= RNN(len(text_field.vocab.itos), hidden_size=30, n_layers=3)\n",
        "#train_rnn_network(RNN_4, train_iter, valid_iter, num_epochs=30, learning_rate=1e-5)\n",
        "\n",
        "#As increasing the num of layers while increasing the hidden_size to 30 provided weaker validation accuracies,\n",
        "#it was important to observe the effect of simply increasing the number of layers.\n",
        "#RNN_5= RNN(len(text_field.vocab.itos), len(text_field.vocab.itos), n_layers=5)\n",
        "#train_rnn_network(RNN_5, train_iter, valid_iter, num_epochs=30, learning_rate=1e-5)\n",
        "#results: Validation Accuracy: 94.26%.\n",
        "\n",
        "#The next tuning deals with slightly changing the archietcture of the RNN itself. Here is the new RNN model for the purposes\n",
        "#of the test: This RNN model constains an additional fully connected layer called f1.\n",
        "# class RNN_2(nn.Module):\n",
        "#     def __init__(self, vocab_size, hidden_size, n_layers=1):\n",
        "#         super(RNN_2, self).__init__()\n",
        "#         self.name = \"RNN_2\"\n",
        "#         self.emb = torch.eye(vocab_size)\n",
        "#         self.hidden_size = hidden_size\n",
        "#         self.rnn = nn.RNN(vocab_size, hidden_size, num_layers=n_layers, batch_first=True)\n",
        "#         self.fc1 = nn.Linear(hidden_size, hidden_size // 2)  # Additional fully connected layer\n",
        "#         self.fc2 = nn.Linear(hidden_size // 2, 2)  # Final fully connected layer\n",
        "\n",
        "#     def forward(self, x):\n",
        "#         x = self.emb[x]\n",
        "#         h0 = torch.zeros(1, x.size(0), self.hidden_size)\n",
        "#         out, _ = self.rnn(x, h0)\n",
        "\n",
        "#         # Using the output from the last time step\n",
        "#         out = out[:, -1, :]\n",
        "\n",
        "#         # Passing through additional fully connected layers\n",
        "#         out = F.relu(self.fc1(out))\n",
        "#         out = self.fc2(out)\n",
        "#         return out\n",
        "#The number of layers was switched back to 1 as it provided better results in the past, and the hidden_size was set to the\n",
        "#original as well.\n",
        "# RNN_6 = RNN_2(len(text_field.vocab.itos), len(text_field.vocab.itos), n_layers=1)\n",
        "# train_rnn_network(RNN_6, train_iter, valid_iter, num_epochs=30, learning_rate=1e-5)\n",
        "#Results: validation accuracy: 92.74% Validation Loss: 0.2164\n",
        "#RESULTED IN BEST VALIDATION ACCURACY AND LOWEST VALIDATION LOSS ^"
      ]
    },
    {
      "cell_type": "code",
      "source": [
        "#the best model running\n",
        "class RNN_2(nn.Module):\n",
        "    def __init__(self, vocab_size, hidden_size, n_layers=1):\n",
        "        super(RNN_2, self).__init__()\n",
        "        self.name = \"RNN_2\"\n",
        "        self.emb = torch.eye(vocab_size)\n",
        "        self.hidden_size = hidden_size\n",
        "        self.rnn = nn.RNN(vocab_size, hidden_size, num_layers=n_layers, batch_first=True)\n",
        "        self.fc1 = nn.Linear(hidden_size, hidden_size // 2)  # Additional fully connected layer\n",
        "        self.fc2 = nn.Linear(hidden_size // 2, 2)  # Final fully connected layer\n",
        "\n",
        "    def forward(self, x):\n",
        "        x = self.emb[x]\n",
        "        h0 = torch.zeros(1, x.size(0), self.hidden_size)\n",
        "        out, _ = self.rnn(x, h0)\n",
        "\n",
        "        # Using the output from the last time step\n",
        "        out = out[:, -1, :]\n",
        "\n",
        "        # Passing through additional fully connected layers\n",
        "        out = F.relu(self.fc1(out))\n",
        "        out = self.fc2(out)\n",
        "        return out\n",
        "\n",
        "RNN_6 = RNN_2(len(text_field.vocab.itos), len(text_field.vocab.itos), n_layers=1)\n",
        "train_rnn_network(RNN_6, train_iter, valid_iter, num_epochs=30, learning_rate=1e-5)"
      ],
      "metadata": {
        "colab": {
          "base_uri": "https://localhost:8080/",
          "height": 928
        },
        "id": "z0zIWY2AcJ6p",
        "outputId": "8846bf98-69bb-4f93-9c37-585133b01929"
      },
      "execution_count": null,
      "outputs": [
        {
          "output_type": "stream",
          "name": "stdout",
          "text": [
            "Epoch 1: Train Loss 0.6983, Val Loss 0.6542, Train Acc 0.4768, Val Acc 0.8628\n",
            "Epoch 2: Train Loss 0.6972, Val Loss 0.6565, Train Acc 0.4768, Val Acc 0.8628\n",
            "Epoch 3: Train Loss 0.6956, Val Loss 0.6569, Train Acc 0.4768, Val Acc 0.8628\n",
            "Epoch 4: Train Loss 0.6944, Val Loss 0.6582, Train Acc 0.4768, Val Acc 0.8628\n",
            "Epoch 5: Train Loss 0.6930, Val Loss 0.6612, Train Acc 0.4768, Val Acc 0.8628\n",
            "Epoch 6: Train Loss 0.6916, Val Loss 0.6620, Train Acc 0.4768, Val Acc 0.8628\n",
            "Epoch 7: Train Loss 0.6901, Val Loss 0.6624, Train Acc 0.4768, Val Acc 0.8628\n",
            "Epoch 8: Train Loss 0.6885, Val Loss 0.6651, Train Acc 0.5088, Val Acc 0.8619\n",
            "Epoch 9: Train Loss 0.6865, Val Loss 0.6665, Train Acc 0.5813, Val Acc 0.8664\n",
            "Epoch 10: Train Loss 0.6836, Val Loss 0.6673, Train Acc 0.6895, Val Acc 0.8547\n",
            "Epoch 11: Train Loss 0.6796, Val Loss 0.6709, Train Acc 0.7537, Val Acc 0.8278\n",
            "Epoch 12: Train Loss 0.6731, Val Loss 0.6719, Train Acc 0.7733, Val Acc 0.7901\n",
            "Epoch 13: Train Loss 0.6553, Val Loss 0.6575, Train Acc 0.8182, Val Acc 0.7722\n",
            "Epoch 14: Train Loss 0.5654, Val Loss 0.5342, Train Acc 0.8655, Val Acc 0.8870\n",
            "Epoch 15: Train Loss 0.5079, Val Loss 0.4840, Train Acc 0.8758, Val Acc 0.9040\n",
            "Epoch 16: Train Loss 0.4674, Val Loss 0.5264, Train Acc 0.8522, Val Acc 0.7964\n",
            "Epoch 17: Train Loss 0.4354, Val Loss 0.4115, Train Acc 0.8901, Val Acc 0.9211\n",
            "Epoch 18: Train Loss 0.4020, Val Loss 0.4463, Train Acc 0.8857, Val Acc 0.8556\n",
            "Epoch 19: Train Loss 0.3731, Val Loss 0.3454, Train Acc 0.8926, Val Acc 0.9291\n",
            "Epoch 20: Train Loss 0.3598, Val Loss 0.3548, Train Acc 0.9094, Val Acc 0.9211\n",
            "Epoch 21: Train Loss 0.3363, Val Loss 0.3126, Train Acc 0.9002, Val Acc 0.9300\n",
            "Epoch 22: Train Loss 0.3148, Val Loss 0.3186, Train Acc 0.9154, Val Acc 0.9238\n",
            "Epoch 23: Train Loss 0.3003, Val Loss 0.3142, Train Acc 0.9167, Val Acc 0.9202\n",
            "Epoch 24: Train Loss 0.2944, Val Loss 0.3541, Train Acc 0.9142, Val Acc 0.8924\n",
            "Epoch 25: Train Loss 0.2853, Val Loss 0.2779, Train Acc 0.9162, Val Acc 0.9354\n",
            "Epoch 26: Train Loss 0.2701, Val Loss 0.2807, Train Acc 0.9266, Val Acc 0.9309\n",
            "Epoch 27: Train Loss 0.2607, Val Loss 0.2674, Train Acc 0.9226, Val Acc 0.9345\n",
            "Epoch 28: Train Loss 0.2619, Val Loss 0.2900, Train Acc 0.9289, Val Acc 0.9184\n",
            "Epoch 29: Train Loss 0.2447, Val Loss 0.2917, Train Acc 0.9305, Val Acc 0.9157\n",
            "Epoch 30: Train Loss 0.2397, Val Loss 0.2679, Train Acc 0.9307, Val Acc 0.9274\n"
          ]
        },
        {
          "output_type": "display_data",
          "data": {
            "text/plain": [
              "<Figure size 1000x400 with 2 Axes>"
            ],
            "image/png": "[encoded data removed]"
          },
          "metadata": {}
        }
      ]
    },
    {
      "cell_type": "markdown",
      "metadata": {
        "id": "v7DY56rKa91I"
      },
      "source": [
        "### Part (d) [2 pt]\n",
        "\n",
        "Before we deploy a machine learning model, we usually want to have a better understanding\n",
        "of how our model performs beyond its validation accuracy. An important metric to track is\n",
        "*how well our model performs in certain subsets of the data*.\n",
        "\n",
        "In particular, what is the model's error rate amongst data with negative labels?\n",
        "This is called the **false positive rate**.\n",
        "\n",
        "What about the model's error rate amongst data with positive labels?\n",
        "This is called the **false negative rate**.\n",
        "\n",
        "Report your final model's false positive and false negative rate across the\n",
        "validation set."
      ]
    },
    {
      "cell_type": "code",
      "execution_count": null,
      "metadata": {
        "colab": {
          "base_uri": "https://localhost:8080/"
        },
        "id": "7ggbQSdba91J",
        "jupyter": {
          "outputs_hidden": true
        },
        "outputId": "e8b8fabe-f324-4c45-e56b-68326993d82f"
      },
      "outputs": [
        {
          "output_type": "stream",
          "name": "stdout",
          "text": [
            "False Positive Rate (FPR): 0.0748\n",
            "False Negative Rate (FNR): 0.1176\n"
          ]
        }
      ],
      "source": [
        "# Create a Dataset of only spam validation examples\n",
        "# valid_spam = torchtext.legacy.data.Dataset(\n",
        "#     [e for e in valid.examples if e.label == 1],\n",
        "#     valid.fields)\n",
        "# Create a Dataset of only non-spam validation examples\n",
        "# valid_nospam = None # TODO\n",
        "# NOTE: I had to comment the code provided above as the version of torchtext I was using was not compatible\n",
        "# and was providing me with errors\n",
        "from torchtext.data import Dataset, BucketIterator\n",
        "\n",
        "# Create a Dataset of only spam validation examples\n",
        "valid_spam = Dataset(\n",
        "    [e for e in valid.examples if e.label == 1],\n",
        "    valid.fields\n",
        ")\n",
        "\n",
        "# Create a Dataset of only non-spam validation examples\n",
        "valid_nospam = Dataset(\n",
        "    [e for e in valid.examples if e.label == 0],\n",
        "    valid.fields\n",
        ")\n",
        "\n",
        "def get_error_rate(model, data_iter):\n",
        "    \"\"\"Compute the error rate of the `model` on the dataset provided by `data_iter`.\"\"\"\n",
        "    model.eval()  # Set the model to evaluation mode\n",
        "    correct, total = 0, 0\n",
        "    for batch in data_iter:\n",
        "        sms, labels = batch.sms[0], batch.label\n",
        "        output = model(sms)\n",
        "        pred = output.max(1, keepdim=True)[1]\n",
        "        correct += pred.eq(labels.view_as(pred)).sum().item()\n",
        "        total += labels.shape[0]\n",
        "    return 1 - correct / total  # Return error rate\n",
        "\n",
        "# Create iterators for the new datasets\n",
        "spam_iter = BucketIterator(\n",
        "    valid_spam, batch_size=32, sort_key=lambda x: len(x.sms),\n",
        "    sort_within_batch=True, repeat=False\n",
        ")\n",
        "\n",
        "nospam_iter = BucketIterator(\n",
        "    valid_nospam, batch_size=32, sort_key=lambda x: len(x.sms),\n",
        "    sort_within_batch=True, repeat=False\n",
        ")\n",
        "\n",
        "model = RNN_6\n",
        "fpr = get_error_rate(model, nospam_iter) #false positive rate\n",
        "print(f\"False Positive Rate (FPR): {fpr:.4f}\")\n",
        "\n",
        "fnr = get_error_rate(model, spam_iter) #false negative rate\n",
        "print(f\"False Negative Rate (FNR): {fnr:.4f}\")\n"
      ]
    },
    {
      "cell_type": "markdown",
      "metadata": {
        "id": "N1iRteb3a91O"
      },
      "source": [
        "### Part (e) [2 pt]\n",
        "\n",
        "The impact of a false positive vs a false negative can be drastically different.\n",
        "If our spam detection algorithm was deployed on your phone, what is the impact\n",
        "of a false positive on the phone's user? What is the impact of a false negative?"
      ]
    },
    {
      "cell_type": "markdown",
      "source": [
        "If the message happened to be false-positive, it means that in reality it was a non-spam message but the model predicts it as a spam-message. This could potentially cuase the user to miss out on important and personal messages as they will be wrongly sent to the spam folder.\n",
        "Likewise, if a message happens to be false negative, it means that in reality, the message was a spam message, but the model predicted it to be a non-spam message. This would mean that harmful messages, such as phishing scams,could reach the user's inbox."
      ],
      "metadata": {
        "id": "fmUxiSTxfP61"
      }
    },
    {
      "cell_type": "markdown",
      "metadata": {
        "id": "Gznefulsa91V"
      },
      "source": [
        "## Part 4. Evaluation [11 pt]\n",
        "\n",
        "### Part (a) [1 pt]\n",
        "\n",
        "Report the final test accuracy of your model."
      ]
    },
    {
      "cell_type": "code",
      "execution_count": null,
      "metadata": {
        "id": "D5L5D-A1a91W",
        "jupyter": {
          "outputs_hidden": true
        },
        "colab": {
          "base_uri": "https://localhost:8080/"
        },
        "outputId": "161a8686-9a8a-46cd-a55b-854e5634d295"
      },
      "outputs": [
        {
          "output_type": "stream",
          "name": "stdout",
          "text": [
            "The final test accuracy is: 93.45%\n"
          ]
        }
      ],
      "source": [
        "test_iter = torchtext.data.BucketIterator(test,\n",
        "                                           batch_size=32,\n",
        "                                           sort_key=lambda x: len(x.sms),\n",
        "                                           sort_within_batch=True,\n",
        "                                           repeat=False)\n",
        "\n",
        "test_accuracy= get_accuracy(RNN_6,test_iter)\n",
        "print(f\"The final test accuracy is: {test_accuracy*100:.2f}%\")"
      ]
    },
    {
      "cell_type": "markdown",
      "metadata": {
        "id": "6Hjmd8rca91Y"
      },
      "source": [
        "### Part (b) [3 pt]\n",
        "\n",
        "Report the false positive rate and false negative rate of your model across the test set."
      ]
    },
    {
      "cell_type": "code",
      "execution_count": null,
      "metadata": {
        "collapsed": true,
        "id": "GFiAKztJa91Z",
        "jupyter": {
          "outputs_hidden": true
        },
        "colab": {
          "base_uri": "https://localhost:8080/"
        },
        "outputId": "5fdd8ffc-c481-4815-f83d-1ae02c711075"
      },
      "outputs": [
        {
          "output_type": "stream",
          "name": "stdout",
          "text": [
            "False Positive Rate (FPR): 0.0586\n",
            "False Negative Rate (FNR): 0.2128\n"
          ]
        }
      ],
      "source": [
        "# Create a Dataset of only spam test examples\n",
        "test_spam = Dataset(\n",
        "    [e for e in test.examples if e.label == 1],\n",
        "    test.fields\n",
        ")\n",
        "\n",
        "# Create a Dataset of only non-spam test examples\n",
        "test_nospam = Dataset(\n",
        "    [e for e in test.examples if e.label == 0],\n",
        "    test.fields\n",
        ")\n",
        "\n",
        "def get_error_rate(model, data_iter):\n",
        "    \"\"\"Compute the error rate of the `model` on the dataset provided by `data_iter`.\"\"\"\n",
        "    model.eval()  # Set the model to evaluation mode\n",
        "    correct, total = 0, 0\n",
        "    for batch in data_iter:\n",
        "        sms, labels = batch.sms[0], batch.label\n",
        "        output = model(sms)\n",
        "        pred = output.max(1, keepdim=True)[1]\n",
        "        correct += pred.eq(labels.view_as(pred)).sum().item()\n",
        "        total += labels.shape[0]\n",
        "    return 1 - correct / total  # Return error rate\n",
        "\n",
        "# Create iterators for the new test datasets\n",
        "spam_iter = BucketIterator(\n",
        "    test_spam, batch_size=32, sort_key=lambda x: len(x.sms),\n",
        "    sort_within_batch=True, repeat=False\n",
        ")\n",
        "\n",
        "nospam_iter = BucketIterator(\n",
        "    test_nospam, batch_size=32, sort_key=lambda x: len(x.sms),\n",
        "    sort_within_batch=True, repeat=False\n",
        ")\n",
        "\n",
        "# Calculate the false positive rate (FPR) and false negative rate (FNR)\n",
        "model = RNN_6  # Use the trained model\n",
        "\n",
        "\n",
        "fpr = get_error_rate(model, nospam_iter) #false positive rate\n",
        "print(f\"False Positive Rate (FPR): {fpr:.4f}\")\n",
        "\n",
        "\n",
        "fnr = get_error_rate(model, spam_iter) #false negative rate\n",
        "print(f\"False Negative Rate (FNR): {fnr:.4f}\")"
      ]
    },
    {
      "cell_type": "markdown",
      "metadata": {
        "id": "0jGHtQFpa91b"
      },
      "source": [
        "### Part (c) [3 pt]\n",
        "\n",
        "What is your model's prediction of the **probability** that\n",
        "the SMS message \"machine learning is sooo cool!\" is spam?\n",
        "\n",
        "Hint: To begin, use `text_field.vocab.stoi` to look up the index\n",
        "of each character in the vocabulary."
      ]
    },
    {
      "cell_type": "code",
      "execution_count": null,
      "metadata": {
        "id": "h_2nSJq8a91b",
        "jupyter": {
          "outputs_hidden": true
        },
        "colab": {
          "base_uri": "https://localhost:8080/"
        },
        "outputId": "76be732b-ef2f-42d9-8b9f-124892d41f15"
      },
      "outputs": [
        {
          "output_type": "stream",
          "name": "stdout",
          "text": [
            "The probability that the message \"machine learning is sooo cool!\" is spam is: 0.5195\n"
          ]
        }
      ],
      "source": [
        "msg = \"machine learning is sooo cool!\"\n",
        "#tokenize the message\n",
        "tokens = text_field.preprocess(msg)\n",
        "#convert tokens to indices\n",
        "token_indices = [text_field.vocab.stoi[token] for token in tokens]\n",
        "#Convert indices to a tensor\n",
        "msg_tensor = torch.LongTensor(token_indices).unsqueeze(1)  # Adding a batch dimension\n",
        "#evaluate the model\n",
        "with torch.no_grad():  # No need to calculate gradients for inference\n",
        "    output = RNN_6(msg_tensor)\n",
        "    probabilities = torch.softmax(output, dim=1)  # Assuming the model outputs logits\n",
        "\n",
        "#probability of the message being spam\n",
        "spam_probability = probabilities[0][1].item()  # Assuming the second column corresponds to spam\n",
        "\n",
        "print(f\"The probability that the message \\\"{msg}\\\" is spam is: {spam_probability:.4f}\")"
      ]
    },
    {
      "cell_type": "markdown",
      "metadata": {
        "id": "QD1zgYJpa91f"
      },
      "source": [
        "### Part (d) [4 pt]\n",
        "\n",
        "Do you think detecting spam is an easy or difficult task?\n",
        "\n",
        "Since machine learning models are expensive to train and deploy, it is very\n",
        "important to compare our models against baseline models: a simple\n",
        "model that is easy to build and inexpensive to run that we can compare our\n",
        "recurrent neural network model against.\n",
        "\n",
        "Explain how you might build a simple baseline model. This baseline model\n",
        "can be a simple neural network (with very few weights), a hand-written algorithm,\n",
        "or any other strategy that is easy to build and test.\n",
        "\n",
        "**Do not actually build a baseline model. Instead, provide instructions on\n",
        "how to build it.**"
      ]
    },
    {
      "cell_type": "markdown",
      "source": [
        "I think the spam detection can be an easy and a hard task depending on the complexity of the text messages. If there are common keywords that are heavily associated with spam messages, the spam detection becomes fairly easy. However, there are also some phishing messages that appear to be quite legitimate. Classifying phishing messages can be challenging because many words and phrases may appear to be from authentic messages.\n",
        "\n",
        "A core concept surrounding the baseline model would be a keyword filter. The steps and general architecture of the baseline model are discussed below:\n",
        "\n",
        "1. We are first going to inititae a list of commonly recognized spam words. For example, the list will include words such as \"free\", \"money\", \"win\", \"lottery\", \"vacation\",\"holiday\",\"gift\",  etc. ex.\n",
        "common_spam_words= [free, money,gift,lottery,win,vacation,holiday]\n",
        "2. The message will then be tokenized into individual words (tokens). Tokenizing will make it easier for the direct comparison to the common_spam_words list.\n",
        "3. Initialize a counter for keeping track of many spam words have been identified.Iterate through the tokenized message and see if any words match with the list.The counter will be updated accordingly, and if the counter ends up having a value of 3 or more, it would be classified as a spam message."
      ],
      "metadata": {
        "id": "jR5PFooKO-Gl"
      }
    }
  ],
  "metadata": {
    "colab": {
      "provenance": []
    },
    "kernelspec": {
      "display_name": "Python 3 (ipykernel)",
      "language": "python",
      "name": "python3"
    },
    "language_info": {
      "codemirror_mode": {
        "name": "ipython",
        "version": 3
      },
      "file_extension": ".py",
      "mimetype": "text/x-python",
      "name": "python",
      "nbconvert_exporter": "python",
      "pygments_lexer": "ipython3",
      "version": "3.9.4"
    }
  },
  "nbformat": 4,
  "nbformat_minor": 0
}